{
 "cells": [
  {
   "cell_type": "markdown",
   "metadata": {},
   "source": [
    "# 1. Introduction"
   ]
  },
  {
   "cell_type": "code",
   "execution_count": 1,
   "metadata": {},
   "outputs": [],
   "source": [
    "import folium # map rendering library\n",
    "import requests # library to handle requests\n",
    "import pandas as pd\n",
    "import numpy as np\n",
    "import seaborn as sns"
   ]
  },
  {
   "cell_type": "markdown",
   "metadata": {},
   "source": [
    "# 2. Data"
   ]
  },
  {
   "cell_type": "markdown",
   "metadata": {},
   "source": [
    "# 2.1 Airbnb New York data"
   ]
  },
  {
   "cell_type": "code",
   "execution_count": 2,
   "metadata": {},
   "outputs": [
    {
     "data": {
      "text/html": [
       "<div>\n",
       "<style scoped>\n",
       "    .dataframe tbody tr th:only-of-type {\n",
       "        vertical-align: middle;\n",
       "    }\n",
       "\n",
       "    .dataframe tbody tr th {\n",
       "        vertical-align: top;\n",
       "    }\n",
       "\n",
       "    .dataframe thead th {\n",
       "        text-align: right;\n",
       "    }\n",
       "</style>\n",
       "<table border=\"1\" class=\"dataframe\">\n",
       "  <thead>\n",
       "    <tr style=\"text-align: right;\">\n",
       "      <th></th>\n",
       "      <th>id</th>\n",
       "      <th>name</th>\n",
       "      <th>host_id</th>\n",
       "      <th>host_name</th>\n",
       "      <th>neighbourhood_group</th>\n",
       "      <th>neighbourhood</th>\n",
       "      <th>latitude</th>\n",
       "      <th>longitude</th>\n",
       "      <th>room_type</th>\n",
       "      <th>price</th>\n",
       "      <th>minimum_nights</th>\n",
       "      <th>number_of_reviews</th>\n",
       "      <th>last_review</th>\n",
       "      <th>reviews_per_month</th>\n",
       "      <th>calculated_host_listings_count</th>\n",
       "      <th>availability_365</th>\n",
       "    </tr>\n",
       "  </thead>\n",
       "  <tbody>\n",
       "    <tr>\n",
       "      <td>0</td>\n",
       "      <td>2539</td>\n",
       "      <td>Clean &amp; quiet apt home by the park</td>\n",
       "      <td>2787</td>\n",
       "      <td>John</td>\n",
       "      <td>Brooklyn</td>\n",
       "      <td>Kensington</td>\n",
       "      <td>40.64749</td>\n",
       "      <td>-73.97237</td>\n",
       "      <td>Private room</td>\n",
       "      <td>149</td>\n",
       "      <td>1</td>\n",
       "      <td>9</td>\n",
       "      <td>2018-10-19</td>\n",
       "      <td>0.21</td>\n",
       "      <td>6</td>\n",
       "      <td>365</td>\n",
       "    </tr>\n",
       "    <tr>\n",
       "      <td>1</td>\n",
       "      <td>2595</td>\n",
       "      <td>Skylit Midtown Castle</td>\n",
       "      <td>2845</td>\n",
       "      <td>Jennifer</td>\n",
       "      <td>Manhattan</td>\n",
       "      <td>Midtown</td>\n",
       "      <td>40.75362</td>\n",
       "      <td>-73.98377</td>\n",
       "      <td>Entire home/apt</td>\n",
       "      <td>225</td>\n",
       "      <td>1</td>\n",
       "      <td>45</td>\n",
       "      <td>2019-05-21</td>\n",
       "      <td>0.38</td>\n",
       "      <td>2</td>\n",
       "      <td>355</td>\n",
       "    </tr>\n",
       "    <tr>\n",
       "      <td>2</td>\n",
       "      <td>3647</td>\n",
       "      <td>THE VILLAGE OF HARLEM....NEW YORK !</td>\n",
       "      <td>4632</td>\n",
       "      <td>Elisabeth</td>\n",
       "      <td>Manhattan</td>\n",
       "      <td>Harlem</td>\n",
       "      <td>40.80902</td>\n",
       "      <td>-73.94190</td>\n",
       "      <td>Private room</td>\n",
       "      <td>150</td>\n",
       "      <td>3</td>\n",
       "      <td>0</td>\n",
       "      <td>NaN</td>\n",
       "      <td>NaN</td>\n",
       "      <td>1</td>\n",
       "      <td>365</td>\n",
       "    </tr>\n",
       "    <tr>\n",
       "      <td>3</td>\n",
       "      <td>3831</td>\n",
       "      <td>Cozy Entire Floor of Brownstone</td>\n",
       "      <td>4869</td>\n",
       "      <td>LisaRoxanne</td>\n",
       "      <td>Brooklyn</td>\n",
       "      <td>Clinton Hill</td>\n",
       "      <td>40.68514</td>\n",
       "      <td>-73.95976</td>\n",
       "      <td>Entire home/apt</td>\n",
       "      <td>89</td>\n",
       "      <td>1</td>\n",
       "      <td>270</td>\n",
       "      <td>2019-07-05</td>\n",
       "      <td>4.64</td>\n",
       "      <td>1</td>\n",
       "      <td>194</td>\n",
       "    </tr>\n",
       "    <tr>\n",
       "      <td>4</td>\n",
       "      <td>5022</td>\n",
       "      <td>Entire Apt: Spacious Studio/Loft by central park</td>\n",
       "      <td>7192</td>\n",
       "      <td>Laura</td>\n",
       "      <td>Manhattan</td>\n",
       "      <td>East Harlem</td>\n",
       "      <td>40.79851</td>\n",
       "      <td>-73.94399</td>\n",
       "      <td>Entire home/apt</td>\n",
       "      <td>80</td>\n",
       "      <td>10</td>\n",
       "      <td>9</td>\n",
       "      <td>2018-11-19</td>\n",
       "      <td>0.10</td>\n",
       "      <td>1</td>\n",
       "      <td>0</td>\n",
       "    </tr>\n",
       "  </tbody>\n",
       "</table>\n",
       "</div>"
      ],
      "text/plain": [
       "     id                                              name  host_id  \\\n",
       "0  2539                Clean & quiet apt home by the park     2787   \n",
       "1  2595                             Skylit Midtown Castle     2845   \n",
       "2  3647               THE VILLAGE OF HARLEM....NEW YORK !     4632   \n",
       "3  3831                   Cozy Entire Floor of Brownstone     4869   \n",
       "4  5022  Entire Apt: Spacious Studio/Loft by central park     7192   \n",
       "\n",
       "     host_name neighbourhood_group neighbourhood  latitude  longitude  \\\n",
       "0         John            Brooklyn    Kensington  40.64749  -73.97237   \n",
       "1     Jennifer           Manhattan       Midtown  40.75362  -73.98377   \n",
       "2    Elisabeth           Manhattan        Harlem  40.80902  -73.94190   \n",
       "3  LisaRoxanne            Brooklyn  Clinton Hill  40.68514  -73.95976   \n",
       "4        Laura           Manhattan   East Harlem  40.79851  -73.94399   \n",
       "\n",
       "         room_type  price  minimum_nights  number_of_reviews last_review  \\\n",
       "0     Private room    149               1                  9  2018-10-19   \n",
       "1  Entire home/apt    225               1                 45  2019-05-21   \n",
       "2     Private room    150               3                  0         NaN   \n",
       "3  Entire home/apt     89               1                270  2019-07-05   \n",
       "4  Entire home/apt     80              10                  9  2018-11-19   \n",
       "\n",
       "   reviews_per_month  calculated_host_listings_count  availability_365  \n",
       "0               0.21                               6               365  \n",
       "1               0.38                               2               355  \n",
       "2                NaN                               1               365  \n",
       "3               4.64                               1               194  \n",
       "4               0.10                               1                 0  "
      ]
     },
     "execution_count": 2,
     "metadata": {},
     "output_type": "execute_result"
    }
   ],
   "source": [
    "ab_data = pd.read_csv('AB_NYC_2019.csv')\n",
    "ab_data.head()"
   ]
  },
  {
   "cell_type": "code",
   "execution_count": 3,
   "metadata": {},
   "outputs": [
    {
     "data": {
      "text/plain": [
       "(48895, 16)"
      ]
     },
     "execution_count": 3,
     "metadata": {},
     "output_type": "execute_result"
    }
   ],
   "source": [
    "ab_data.shape"
   ]
  },
  {
   "cell_type": "code",
   "execution_count": 4,
   "metadata": {},
   "outputs": [],
   "source": [
    "ab_data = ab_data.sample(1000)"
   ]
  },
  {
   "cell_type": "code",
   "execution_count": null,
   "metadata": {},
   "outputs": [],
   "source": []
  },
  {
   "cell_type": "markdown",
   "metadata": {},
   "source": [
    "# 2.2 Foursquare data"
   ]
  },
  {
   "cell_type": "code",
   "execution_count": null,
   "metadata": {},
   "outputs": [],
   "source": []
  },
  {
   "cell_type": "markdown",
   "metadata": {},
   "source": [
    "# 3. Metrology"
   ]
  },
  {
   "cell_type": "markdown",
   "metadata": {},
   "source": [
    "### Missing values"
   ]
  },
  {
   "cell_type": "code",
   "execution_count": 5,
   "metadata": {},
   "outputs": [
    {
     "name": "stderr",
     "output_type": "stream",
     "text": [
      "D:\\software\\Anaconda3\\lib\\site-packages\\ipykernel_launcher.py:4: FutureWarning: Sorting because non-concatenation axis is not aligned. A future version\n",
      "of pandas will change to not sort by default.\n",
      "\n",
      "To accept the future behavior, pass 'sort=False'.\n",
      "\n",
      "To retain the current behavior and silence the warning, pass 'sort=True'.\n",
      "\n",
      "  after removing the cwd from sys.path.\n"
     ]
    },
    {
     "data": {
      "text/html": [
       "<div>\n",
       "<style scoped>\n",
       "    .dataframe tbody tr th:only-of-type {\n",
       "        vertical-align: middle;\n",
       "    }\n",
       "\n",
       "    .dataframe tbody tr th {\n",
       "        vertical-align: top;\n",
       "    }\n",
       "\n",
       "    .dataframe thead th {\n",
       "        text-align: right;\n",
       "    }\n",
       "</style>\n",
       "<table border=\"1\" class=\"dataframe\">\n",
       "  <thead>\n",
       "    <tr style=\"text-align: right;\">\n",
       "      <th></th>\n",
       "      <th>Total</th>\n",
       "      <th>Percent</th>\n",
       "    </tr>\n",
       "  </thead>\n",
       "  <tbody>\n",
       "    <tr>\n",
       "      <td>availability_365</td>\n",
       "      <td>0</td>\n",
       "      <td>0</td>\n",
       "    </tr>\n",
       "    <tr>\n",
       "      <td>calculated_host_listings_count</td>\n",
       "      <td>0</td>\n",
       "      <td>0</td>\n",
       "    </tr>\n",
       "    <tr>\n",
       "      <td>host_id</td>\n",
       "      <td>0</td>\n",
       "      <td>0</td>\n",
       "    </tr>\n",
       "    <tr>\n",
       "      <td>host_name</td>\n",
       "      <td>0</td>\n",
       "      <td>0</td>\n",
       "    </tr>\n",
       "    <tr>\n",
       "      <td>id</td>\n",
       "      <td>0</td>\n",
       "      <td>0</td>\n",
       "    </tr>\n",
       "    <tr>\n",
       "      <td>last_review</td>\n",
       "      <td>192</td>\n",
       "      <td>192</td>\n",
       "    </tr>\n",
       "    <tr>\n",
       "      <td>latitude</td>\n",
       "      <td>0</td>\n",
       "      <td>0</td>\n",
       "    </tr>\n",
       "    <tr>\n",
       "      <td>longitude</td>\n",
       "      <td>0</td>\n",
       "      <td>0</td>\n",
       "    </tr>\n",
       "    <tr>\n",
       "      <td>minimum_nights</td>\n",
       "      <td>0</td>\n",
       "      <td>0</td>\n",
       "    </tr>\n",
       "    <tr>\n",
       "      <td>name</td>\n",
       "      <td>0</td>\n",
       "      <td>0</td>\n",
       "    </tr>\n",
       "    <tr>\n",
       "      <td>neighbourhood</td>\n",
       "      <td>0</td>\n",
       "      <td>0</td>\n",
       "    </tr>\n",
       "    <tr>\n",
       "      <td>neighbourhood_group</td>\n",
       "      <td>0</td>\n",
       "      <td>0</td>\n",
       "    </tr>\n",
       "    <tr>\n",
       "      <td>number_of_reviews</td>\n",
       "      <td>0</td>\n",
       "      <td>0</td>\n",
       "    </tr>\n",
       "    <tr>\n",
       "      <td>price</td>\n",
       "      <td>0</td>\n",
       "      <td>0</td>\n",
       "    </tr>\n",
       "    <tr>\n",
       "      <td>reviews_per_month</td>\n",
       "      <td>192</td>\n",
       "      <td>192</td>\n",
       "    </tr>\n",
       "    <tr>\n",
       "      <td>room_type</td>\n",
       "      <td>0</td>\n",
       "      <td>0</td>\n",
       "    </tr>\n",
       "  </tbody>\n",
       "</table>\n",
       "</div>"
      ],
      "text/plain": [
       "                                Total  Percent\n",
       "availability_365                    0        0\n",
       "calculated_host_listings_count      0        0\n",
       "host_id                             0        0\n",
       "host_name                           0        0\n",
       "id                                  0        0\n",
       "last_review                       192      192\n",
       "latitude                            0        0\n",
       "longitude                           0        0\n",
       "minimum_nights                      0        0\n",
       "name                                0        0\n",
       "neighbourhood                       0        0\n",
       "neighbourhood_group                 0        0\n",
       "number_of_reviews                   0        0\n",
       "price                               0        0\n",
       "reviews_per_month                 192      192\n",
       "room_type                           0        0"
      ]
     },
     "execution_count": 5,
     "metadata": {},
     "output_type": "execute_result"
    }
   ],
   "source": [
    "#missing data\n",
    "ab_data_na= ab_data.isnull().sum().sort_values(ascending=False)\n",
    "ab_data_na_percent = (ab_data.isnull().sum()/len(ab_data)*100).sort_values(ascending=False)\n",
    "missing_data = pd.concat([ab_data_na, ab_data.isnull().sum()], axis=1, keys=['Total', 'Percent'])\n",
    "missing_data.head(20)"
   ]
  },
  {
   "cell_type": "code",
   "execution_count": 6,
   "metadata": {},
   "outputs": [],
   "source": [
    "# replace NA\n",
    "ab_data['reviews_per_month'].fillna(0, inplace=True)\n",
    "ab_data['name'].fillna('Unknown name', inplace=True)"
   ]
  },
  {
   "cell_type": "code",
   "execution_count": 7,
   "metadata": {},
   "outputs": [
    {
     "data": {
      "text/plain": [
       "(653, 16)"
      ]
     },
     "execution_count": 7,
     "metadata": {},
     "output_type": "execute_result"
    }
   ],
   "source": [
    "# drop the samples which have 0 day\n",
    "ab_data = ab_data[ab_data['availability_365']!=0]\n",
    "ab_data.shape"
   ]
  },
  {
   "cell_type": "code",
   "execution_count": 8,
   "metadata": {},
   "outputs": [
    {
     "data": {
      "text/html": [
       "<div>\n",
       "<style scoped>\n",
       "    .dataframe tbody tr th:only-of-type {\n",
       "        vertical-align: middle;\n",
       "    }\n",
       "\n",
       "    .dataframe tbody tr th {\n",
       "        vertical-align: top;\n",
       "    }\n",
       "\n",
       "    .dataframe thead th {\n",
       "        text-align: right;\n",
       "    }\n",
       "</style>\n",
       "<table border=\"1\" class=\"dataframe\">\n",
       "  <thead>\n",
       "    <tr style=\"text-align: right;\">\n",
       "      <th></th>\n",
       "      <th>id</th>\n",
       "      <th>name</th>\n",
       "      <th>neighbourhood_group</th>\n",
       "      <th>neighbourhood</th>\n",
       "      <th>latitude</th>\n",
       "      <th>longitude</th>\n",
       "      <th>room_type</th>\n",
       "      <th>price</th>\n",
       "      <th>reviews_per_month</th>\n",
       "    </tr>\n",
       "  </thead>\n",
       "  <tbody>\n",
       "    <tr>\n",
       "      <td>41351</td>\n",
       "      <td>32207083</td>\n",
       "      <td>Convent Ave &amp; 127st Col Univ  RM 2</td>\n",
       "      <td>Manhattan</td>\n",
       "      <td>Harlem</td>\n",
       "      <td>40.81332</td>\n",
       "      <td>-73.95309</td>\n",
       "      <td>Private room</td>\n",
       "      <td>69</td>\n",
       "      <td>0.33</td>\n",
       "    </tr>\n",
       "    <tr>\n",
       "      <td>36977</td>\n",
       "      <td>29393117</td>\n",
       "      <td>Massive Art Loft - Best Manhattan Location Ever!</td>\n",
       "      <td>Manhattan</td>\n",
       "      <td>Midtown</td>\n",
       "      <td>40.74549</td>\n",
       "      <td>-73.99066</td>\n",
       "      <td>Entire home/apt</td>\n",
       "      <td>670</td>\n",
       "      <td>0.00</td>\n",
       "    </tr>\n",
       "    <tr>\n",
       "      <td>31506</td>\n",
       "      <td>24535218</td>\n",
       "      <td>Luxury Tribeca 1BR w/ Gym, Doorman + Roof deck...</td>\n",
       "      <td>Manhattan</td>\n",
       "      <td>Tribeca</td>\n",
       "      <td>40.71433</td>\n",
       "      <td>-74.01073</td>\n",
       "      <td>Entire home/apt</td>\n",
       "      <td>323</td>\n",
       "      <td>0.00</td>\n",
       "    </tr>\n",
       "    <tr>\n",
       "      <td>37011</td>\n",
       "      <td>29420970</td>\n",
       "      <td>Time-Sharing Private Room</td>\n",
       "      <td>Brooklyn</td>\n",
       "      <td>Borough Park</td>\n",
       "      <td>40.63543</td>\n",
       "      <td>-74.00701</td>\n",
       "      <td>Shared room</td>\n",
       "      <td>38</td>\n",
       "      <td>0.80</td>\n",
       "    </tr>\n",
       "    <tr>\n",
       "      <td>22862</td>\n",
       "      <td>18510340</td>\n",
       "      <td>Sunny Upper East Side Studio</td>\n",
       "      <td>Manhattan</td>\n",
       "      <td>Upper East Side</td>\n",
       "      <td>40.78020</td>\n",
       "      <td>-73.94652</td>\n",
       "      <td>Entire home/apt</td>\n",
       "      <td>79</td>\n",
       "      <td>0.19</td>\n",
       "    </tr>\n",
       "  </tbody>\n",
       "</table>\n",
       "</div>"
      ],
      "text/plain": [
       "             id                                               name  \\\n",
       "41351  32207083                 Convent Ave & 127st Col Univ  RM 2   \n",
       "36977  29393117   Massive Art Loft - Best Manhattan Location Ever!   \n",
       "31506  24535218  Luxury Tribeca 1BR w/ Gym, Doorman + Roof deck...   \n",
       "37011  29420970                          Time-Sharing Private Room   \n",
       "22862  18510340                       Sunny Upper East Side Studio   \n",
       "\n",
       "      neighbourhood_group    neighbourhood  latitude  longitude  \\\n",
       "41351           Manhattan           Harlem  40.81332  -73.95309   \n",
       "36977           Manhattan          Midtown  40.74549  -73.99066   \n",
       "31506           Manhattan          Tribeca  40.71433  -74.01073   \n",
       "37011            Brooklyn     Borough Park  40.63543  -74.00701   \n",
       "22862           Manhattan  Upper East Side  40.78020  -73.94652   \n",
       "\n",
       "             room_type  price  reviews_per_month  \n",
       "41351     Private room     69               0.33  \n",
       "36977  Entire home/apt    670               0.00  \n",
       "31506  Entire home/apt    323               0.00  \n",
       "37011      Shared room     38               0.80  \n",
       "22862  Entire home/apt     79               0.19  "
      ]
     },
     "execution_count": 8,
     "metadata": {},
     "output_type": "execute_result"
    }
   ],
   "source": [
    "# drop the last_review column\n",
    "ab_data = ab_data.drop(['host_id', 'host_name', 'minimum_nights', 'number_of_reviews', 'last_review', 'calculated_host_listings_count', 'availability_365'], axis=1)\n",
    "ab_data.head()"
   ]
  },
  {
   "cell_type": "code",
   "execution_count": 9,
   "metadata": {},
   "outputs": [
    {
     "data": {
      "text/plain": [
       "(653, 9)"
      ]
     },
     "execution_count": 9,
     "metadata": {},
     "output_type": "execute_result"
    }
   ],
   "source": [
    "ab_data.shape"
   ]
  },
  {
   "cell_type": "markdown",
   "metadata": {},
   "source": [
    "The distribution of price"
   ]
  },
  {
   "cell_type": "code",
   "execution_count": 10,
   "metadata": {},
   "outputs": [
    {
     "data": {
      "text/plain": [
       "count     653.00000\n",
       "mean      163.88974\n",
       "std       336.88602\n",
       "min        30.00000\n",
       "25%        74.00000\n",
       "50%       110.00000\n",
       "75%       180.00000\n",
       "max      7703.00000\n",
       "Name: price, dtype: float64"
      ]
     },
     "execution_count": 10,
     "metadata": {},
     "output_type": "execute_result"
    }
   ],
   "source": [
    "ab_data['price'].describe()"
   ]
  },
  {
   "cell_type": "code",
   "execution_count": 11,
   "metadata": {},
   "outputs": [
    {
     "data": {
      "text/plain": [
       "<matplotlib.axes._subplots.AxesSubplot at 0x198d0574548>"
      ]
     },
     "execution_count": 11,
     "metadata": {},
     "output_type": "execute_result"
    },
    {
     "data": {
      "image/png": "[encoded data removed]",
      "text/plain": [
       "<Figure size 432x288 with 1 Axes>"
      ]
     },
     "metadata": {
      "needs_background": "light"
     },
     "output_type": "display_data"
    }
   ],
   "source": [
    "sns.distplot(ab_data['price'])"
   ]
  },
  {
   "cell_type": "code",
   "execution_count": 12,
   "metadata": {},
   "outputs": [
    {
     "data": {
      "text/plain": [
       "(653, 9)"
      ]
     },
     "execution_count": 12,
     "metadata": {},
     "output_type": "execute_result"
    }
   ],
   "source": [
    "ab_data = ab_data[ab_data['price']!=0]\n",
    "ab_data.shape"
   ]
  },
  {
   "cell_type": "code",
   "execution_count": 13,
   "metadata": {},
   "outputs": [],
   "source": [
    "ny_data = ab_data"
   ]
  },
  {
   "cell_type": "markdown",
   "metadata": {},
   "source": [
    "# 3. Methodology"
   ]
  },
  {
   "cell_type": "markdown",
   "metadata": {},
   "source": [
    "## 3.1 Data Exploration\n",
    "### Where do the hotels locate?"
   ]
  },
  {
   "cell_type": "code",
   "execution_count": 14,
   "metadata": {},
   "outputs": [
    {
     "data": {
      "text/html": [
       "<div style=\"width:100%;\"><div style=\"position:relative;width:100%;height:0;padding-bottom:60%;\"><iframe src=\"about:blank\" style=\"position:absolute;width:100%;height:100%;left:0;top:0;border:none !important;\" data-html=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 onload=\"this.contentDocument.open();this.contentDocument.write(atob(this.getAttribute('data-html')));this.contentDocument.close();\" allowfullscreen webkitallowfullscreen mozallowfullscreen></iframe></div></div>"
      ],
      "text/plain": [
       "<folium.folium.Map at 0x198d0901588>"
      ]
     },
     "execution_count": 14,
     "metadata": {},
     "output_type": "execute_result"
    }
   ],
   "source": [
    "latitude = 40.7127281\n",
    "longitude = -74.0060152\n",
    "map_ny = folium.Map(location=[latitude, longitude], zoom_start=10)\n",
    "map_ny"
   ]
  },
  {
   "cell_type": "markdown",
   "metadata": {},
   "source": [
    "calculate the number of hotels in each neighbourhood"
   ]
  },
  {
   "cell_type": "code",
   "execution_count": 15,
   "metadata": {},
   "outputs": [
    {
     "data": {
      "text/html": [
       "<div>\n",
       "<style scoped>\n",
       "    .dataframe tbody tr th:only-of-type {\n",
       "        vertical-align: middle;\n",
       "    }\n",
       "\n",
       "    .dataframe tbody tr th {\n",
       "        vertical-align: top;\n",
       "    }\n",
       "\n",
       "    .dataframe thead th {\n",
       "        text-align: right;\n",
       "    }\n",
       "</style>\n",
       "<table border=\"1\" class=\"dataframe\">\n",
       "  <thead>\n",
       "    <tr style=\"text-align: right;\">\n",
       "      <th></th>\n",
       "      <th>id</th>\n",
       "      <th>name</th>\n",
       "      <th>neighbourhood</th>\n",
       "      <th>latitude</th>\n",
       "      <th>longitude</th>\n",
       "      <th>room_type</th>\n",
       "      <th>price</th>\n",
       "      <th>reviews_per_month</th>\n",
       "    </tr>\n",
       "    <tr>\n",
       "      <th>neighbourhood_group</th>\n",
       "      <th></th>\n",
       "      <th></th>\n",
       "      <th></th>\n",
       "      <th></th>\n",
       "      <th></th>\n",
       "      <th></th>\n",
       "      <th></th>\n",
       "      <th></th>\n",
       "    </tr>\n",
       "  </thead>\n",
       "  <tbody>\n",
       "    <tr>\n",
       "      <td>Bronx</td>\n",
       "      <td>18</td>\n",
       "      <td>18</td>\n",
       "      <td>18</td>\n",
       "      <td>18</td>\n",
       "      <td>18</td>\n",
       "      <td>18</td>\n",
       "      <td>18</td>\n",
       "      <td>18</td>\n",
       "    </tr>\n",
       "    <tr>\n",
       "      <td>Brooklyn</td>\n",
       "      <td>238</td>\n",
       "      <td>238</td>\n",
       "      <td>238</td>\n",
       "      <td>238</td>\n",
       "      <td>238</td>\n",
       "      <td>238</td>\n",
       "      <td>238</td>\n",
       "      <td>238</td>\n",
       "    </tr>\n",
       "    <tr>\n",
       "      <td>Manhattan</td>\n",
       "      <td>287</td>\n",
       "      <td>287</td>\n",
       "      <td>287</td>\n",
       "      <td>287</td>\n",
       "      <td>287</td>\n",
       "      <td>287</td>\n",
       "      <td>287</td>\n",
       "      <td>287</td>\n",
       "    </tr>\n",
       "    <tr>\n",
       "      <td>Queens</td>\n",
       "      <td>102</td>\n",
       "      <td>102</td>\n",
       "      <td>102</td>\n",
       "      <td>102</td>\n",
       "      <td>102</td>\n",
       "      <td>102</td>\n",
       "      <td>102</td>\n",
       "      <td>102</td>\n",
       "    </tr>\n",
       "    <tr>\n",
       "      <td>Staten Island</td>\n",
       "      <td>8</td>\n",
       "      <td>8</td>\n",
       "      <td>8</td>\n",
       "      <td>8</td>\n",
       "      <td>8</td>\n",
       "      <td>8</td>\n",
       "      <td>8</td>\n",
       "      <td>8</td>\n",
       "    </tr>\n",
       "  </tbody>\n",
       "</table>\n",
       "</div>"
      ],
      "text/plain": [
       "                      id  name  neighbourhood  latitude  longitude  room_type  \\\n",
       "neighbourhood_group                                                             \n",
       "Bronx                 18    18             18        18         18         18   \n",
       "Brooklyn             238   238            238       238        238        238   \n",
       "Manhattan            287   287            287       287        287        287   \n",
       "Queens               102   102            102       102        102        102   \n",
       "Staten Island          8     8              8         8          8          8   \n",
       "\n",
       "                     price  reviews_per_month  \n",
       "neighbourhood_group                            \n",
       "Bronx                   18                 18  \n",
       "Brooklyn               238                238  \n",
       "Manhattan              287                287  \n",
       "Queens                 102                102  \n",
       "Staten Island            8                  8  "
      ]
     },
     "execution_count": 15,
     "metadata": {},
     "output_type": "execute_result"
    }
   ],
   "source": [
    "# group the data by neighborhood_group\n",
    "ny_data.groupby('neighbourhood_group').count()"
   ]
  },
  {
   "cell_type": "markdown",
   "metadata": {},
   "source": [
    "### The average price of neigborhoods"
   ]
  },
  {
   "cell_type": "code",
   "execution_count": 16,
   "metadata": {},
   "outputs": [
    {
     "data": {
      "text/html": [
       "<div>\n",
       "<style scoped>\n",
       "    .dataframe tbody tr th:only-of-type {\n",
       "        vertical-align: middle;\n",
       "    }\n",
       "\n",
       "    .dataframe tbody tr th {\n",
       "        vertical-align: top;\n",
       "    }\n",
       "\n",
       "    .dataframe thead th {\n",
       "        text-align: right;\n",
       "    }\n",
       "</style>\n",
       "<table border=\"1\" class=\"dataframe\">\n",
       "  <thead>\n",
       "    <tr style=\"text-align: right;\">\n",
       "      <th></th>\n",
       "      <th>id</th>\n",
       "      <th>latitude</th>\n",
       "      <th>longitude</th>\n",
       "      <th>price</th>\n",
       "      <th>reviews_per_month</th>\n",
       "    </tr>\n",
       "    <tr>\n",
       "      <th>neighbourhood_group</th>\n",
       "      <th></th>\n",
       "      <th></th>\n",
       "      <th></th>\n",
       "      <th></th>\n",
       "      <th></th>\n",
       "    </tr>\n",
       "  </thead>\n",
       "  <tbody>\n",
       "    <tr>\n",
       "      <td>Bronx</td>\n",
       "      <td>2.353760e+07</td>\n",
       "      <td>40.843724</td>\n",
       "      <td>-73.886008</td>\n",
       "      <td>71.166667</td>\n",
       "      <td>1.622222</td>\n",
       "    </tr>\n",
       "    <tr>\n",
       "      <td>Brooklyn</td>\n",
       "      <td>1.986481e+07</td>\n",
       "      <td>40.686311</td>\n",
       "      <td>-73.949765</td>\n",
       "      <td>129.058824</td>\n",
       "      <td>1.592311</td>\n",
       "    </tr>\n",
       "    <tr>\n",
       "      <td>Manhattan</td>\n",
       "      <td>2.178286e+07</td>\n",
       "      <td>40.767308</td>\n",
       "      <td>-73.973367</td>\n",
       "      <td>225.888502</td>\n",
       "      <td>1.452578</td>\n",
       "    </tr>\n",
       "    <tr>\n",
       "      <td>Queens</td>\n",
       "      <td>2.409600e+07</td>\n",
       "      <td>40.721190</td>\n",
       "      <td>-73.864371</td>\n",
       "      <td>94.009804</td>\n",
       "      <td>2.181471</td>\n",
       "    </tr>\n",
       "    <tr>\n",
       "      <td>Staten Island</td>\n",
       "      <td>2.292208e+07</td>\n",
       "      <td>40.613980</td>\n",
       "      <td>-74.102294</td>\n",
       "      <td>75.500000</td>\n",
       "      <td>1.300000</td>\n",
       "    </tr>\n",
       "  </tbody>\n",
       "</table>\n",
       "</div>"
      ],
      "text/plain": [
       "                               id   latitude  longitude       price  \\\n",
       "neighbourhood_group                                                   \n",
       "Bronx                2.353760e+07  40.843724 -73.886008   71.166667   \n",
       "Brooklyn             1.986481e+07  40.686311 -73.949765  129.058824   \n",
       "Manhattan            2.178286e+07  40.767308 -73.973367  225.888502   \n",
       "Queens               2.409600e+07  40.721190 -73.864371   94.009804   \n",
       "Staten Island        2.292208e+07  40.613980 -74.102294   75.500000   \n",
       "\n",
       "                     reviews_per_month  \n",
       "neighbourhood_group                     \n",
       "Bronx                         1.622222  \n",
       "Brooklyn                      1.592311  \n",
       "Manhattan                     1.452578  \n",
       "Queens                        2.181471  \n",
       "Staten Island                 1.300000  "
      ]
     },
     "execution_count": 16,
     "metadata": {},
     "output_type": "execute_result"
    }
   ],
   "source": [
    "ny_data.groupby('neighbourhood_group').mean()"
   ]
  },
  {
   "cell_type": "markdown",
   "metadata": {},
   "source": [
    "## 3.2 Venues Exploration"
   ]
  },
  {
   "cell_type": "code",
   "execution_count": 17,
   "metadata": {},
   "outputs": [
    {
     "name": "stdout",
     "output_type": "stream",
     "text": [
      "Your credentails:\n",
      "CLIENT_ID: H201PLIGMNTAP5ZKN2DZK1QSDVTSZNLH4SGVA0VBPFO00MFT\n",
      "CLIENT_SECRET:JAPGNRKSTAJEQUKPATJJCNFETSEJQBAQRPDODZDNU1CN1MLP\n"
     ]
    }
   ],
   "source": [
    "CLIENT_ID = 'H201PLIGMNTAP5ZKN2DZK1QSDVTSZNLH4SGVA0VBPFO00MFT' # your Foursquare ID\n",
    "CLIENT_SECRET = 'JAPGNRKSTAJEQUKPATJJCNFETSEJQBAQRPDODZDNU1CN1MLP' # your Foursquare Secret\n",
    "VERSION = '20180605' # Foursquare API version\n",
    "\n",
    "print('Your credentails:')\n",
    "print('CLIENT_ID: ' + CLIENT_ID)\n",
    "print('CLIENT_SECRET:' + CLIENT_SECRET)"
   ]
  },
  {
   "cell_type": "code",
   "execution_count": 18,
   "metadata": {},
   "outputs": [],
   "source": [
    "def getNearbyVenues(names, latitudes, longitudes, radius=500, limit=100):\n",
    "    \n",
    "    venues_list=[]\n",
    "\n",
    "    for name, lat, lng in zip(names, latitudes, longitudes):\n",
    "        print(name)\n",
    "        # create the API request URL\n",
    "        url = 'https://api.foursquare.com/v2/venues/explore?&client_id={}&client_secret={}&v={}&ll={},{}&radius={}&limit={}'.format(\n",
    "            CLIENT_ID, \n",
    "            CLIENT_SECRET, \n",
    "            VERSION, \n",
    "            lat, \n",
    "            lng, \n",
    "            radius, \n",
    "            limit)\n",
    "            \n",
    "        # make the GET request\n",
    "        print(requests.get(url).json()['response'])\n",
    "        results = requests.get(url).json()[\"response\"]['groups'][0]['items']\n",
    "        \n",
    "        # return only relevant information for each nearby venue\n",
    "        venues_list.append([(\n",
    "            name, \n",
    "            lat, \n",
    "            lng, \n",
    "            v['venue']['name'], \n",
    "            v['venue']['location']['lat'], \n",
    "            v['venue']['location']['lng'],  \n",
    "            v['venue']['categories'][0]['name']) for v in results])\n",
    "\n",
    "    nearby_venues = pd.DataFrame([item for venue_list in venues_list for item in venue_list])\n",
    "    nearby_venues.columns = ['homestay', \n",
    "                  'latitude', \n",
    "                  'longitude', \n",
    "                  'Venue', \n",
    "                  'Venue Latitude', \n",
    "                  'Venue Longitude', \n",
    "                  'Venue Category']\n",
    "    return nearby_venues"
   ]
  },
  {
   "cell_type": "code",
   "execution_count": 19,
   "metadata": {},
   "outputs": [
    {
     "name": "stdout",
     "output_type": "stream",
     "text": [
      "Convent Ave & 127st Col Univ  RM 2\n",
      "{'meta': {'code': 200, 'requestId': '5e615d55963d29001be13fb9'}, 'response': {'suggestedFilters': {'header': 'Tap to show:', 'filters': [{'name': 'Open now', 'key': 'openNow'}, {'name': '$-$$$$', 'key': 'price'}]}, 'headerLocation': 'Manhattanville', 'headerFullLocation': 'Manhattanville, New York', 'headerLocationGranularity': 'neighborhood', 'totalResults': 36, 'suggestedBounds': {'ne': {'lat': 40.81782000450001, 'lng': -73.94715534550906}, 'sw': {'lat': 40.8088199955, 'lng': -73.95902465449095}}, 'groups': [{'type': 'Recommended Places', 'name': 'recommended', 'items': [{'reasons': {'count': 0, 'items': [{'summary': 'This spot is popular', 'type': 'general', 'reasonName': 'globalInteractionReason'}]}, 'venue': {'id': '511a937ee88968b8acbba54b', 'name': 'Maison Harlem', 'location': {'address': '341 Saint Nicholas Ave', 'lat': 40.8121095912697, 'lng': -73.95172150373327, 'labeledLatLngs': [{'label': 'display', 'lat': 40.8121095912697, 'lng': -73.95172150373327}], 'distance': 177, 'postalCode': '10027', 'cc': 'US', 'city': 'New York', 'state': 'NY', 'country': 'United States', 'formattedAddress': ['341 Saint Nicholas Ave', 'New York, NY 10027', 'United States']}, 'categories': [{'id': '4bf58dd8d48988d10c941735', 'name': 'French Restaurant', 'pluralName': 'French Restaurants', 'shortName': 'French', 'icon': {'prefix': 'https://ss3.4sqi.net/img/categories_v2/food/french_', 'suffix': '.png'}, 'primary': True}], 'delivery': {'id': '281540', 'url': 'https://www.seamless.com/menu/maison-harlem-341-st-nicholas-ave-new-york/281540?affiliate=1131&utm_source=foursquare-affiliate-network&utm_medium=affiliate&utm_campaign=1131&utm_content=281540', 'provider': {'name': 'seamless', 'icon': {'prefix': 'https://fastly.4sqi.net/img/general/cap/', 'sizes': [40, 50], 'name': '/delivery_provider_seamless_20180129.png'}}}, 'photos': {'count': 0, 'groups': []}, 'venuePage': {'id': '48113581'}}, 'referralId': 'e-0-511a937ee88968b8acbba54b-0'}, {'reasons': {'count': 0, 'items': [{'summary': 'This spot is popular', 'type': 'general', 'reasonName': 'globalInteractionReason'}]}, 'venue': {'id': '5260284711d29ec2a5c48d97', 'name': 'Unity Yoga', 'location': {'address': '350 Saint Nicholas Ave', 'lat': 40.81233480430122, 'lng': -73.95112597437242, 'labeledLatLngs': [{'label': 'display', 'lat': 40.81233480430122, 'lng': -73.95112597437242}], 'distance': 198, 'postalCode': '10027', 'cc': 'US', 'city': 'New York', 'state': 'NY', 'country': 'United States', 'formattedAddress': ['350 Saint Nicholas Ave', 'New York, NY 10027', 'United States']}, 'categories': [{'id': '4bf58dd8d48988d102941735', 'name': 'Yoga Studio', 'pluralName': 'Yoga Studios', 'shortName': 'Yoga Studio', 'icon': {'prefix': 'https://ss3.4sqi.net/img/categories_v2/shops/gym_yogastudio_', 'suffix': '.png'}, 'primary': True}], 'photos': {'count': 0, 'groups': []}, 'venuePage': {'id': '71281975'}}, 'referralId': 'e-0-5260284711d29ec2a5c48d97-1'}, {'reasons': {'count': 0, 'items': [{'summary': 'This spot is popular', 'type': 'general', 'reasonName': 'globalInteractionReason'}]}, 'venue': {'id': '4b64821cf964a5203cb92ae3', 'name': 'Levels Barbershop', 'location': {'address': '425 W 125th St', 'lat': 40.81205770070498, 'lng': -73.95515738337005, 'labeledLatLngs': [{'label': 'display', 'lat': 40.81205770070498, 'lng': -73.95515738337005}], 'distance': 223, 'postalCode': '10027', 'cc': 'US', 'city': 'New York', 'state': 'NY', 'country': 'United States', 'formattedAddress': ['425 W 125th St', 'New York, NY 10027', 'United States']}, 'categories': [{'id': '4bf58dd8d48988d110951735', 'name': 'Salon / Barbershop', 'pluralName': 'Salons / Barbershops', 'shortName': 'Salon / Barbershop', 'icon': {'prefix': 'https://ss3.4sqi.net/img/categories_v2/shops/salon_barber_', 'suffix': '.png'}, 'primary': True}], 'photos': {'count': 0, 'groups': []}}, 'referralId': 'e-0-4b64821cf964a5203cb92ae3-2'}, {'reasons': {'count': 0, 'items': [{'summary': 'This spot is popular', 'type': 'general', 'reasonName': 'globalInteractionReason'}]}, 'venue': {'id': '5c58826ad1a402002c0b8793', 'name': 'Plowshares Coffee', 'location': {'address': '1351 Amsterdam Ave', 'lat': 40.813705, 'lng': -73.955776, 'labeledLatLngs': [{'label': 'display', 'lat': 40.813705, 'lng': -73.955776}], 'distance': 230, 'postalCode': '10027', 'cc': 'US', 'city': 'New York', 'state': 'NY', 'country': 'United States', 'formattedAddress': ['1351 Amsterdam Ave', 'New York, NY 10027', 'United States']}, 'categories': [{'id': '4bf58dd8d48988d1e0931735', 'name': 'Coffee Shop', 'pluralName': 'Coffee Shops', 'shortName': 'Coffee Shop', 'icon': {'prefix': 'https://ss3.4sqi.net/img/categories_v2/food/coffeeshop_', 'suffix': '.png'}, 'primary': True}], 'photos': {'count': 0, 'groups': []}}, 'referralId': 'e-0-5c58826ad1a402002c0b8793-3'}, {'reasons': {'count': 0, 'items': [{'summary': 'This spot is popular', 'type': 'general', 'reasonName': 'globalInteractionReason'}]}, 'venue': {'id': '538d1501498e69d6e82e13a9', 'name': 'BTL Wines & Spirits', 'location': {'address': '311 W 127th St', 'lat': 40.811953788437265, 'lng': -73.95132275814173, 'labeledLatLngs': [{'label': 'display', 'lat': 40.811953788437265, 'lng': -73.95132275814173}], 'distance': 212, 'postalCode': '10027', 'cc': 'US', 'city': 'New York', 'state': 'NY', 'country': 'United States', 'formattedAddress': ['311 W 127th St', 'New York, NY 10027', 'United States']}, 'categories': [{'id': '4bf58dd8d48988d119951735', 'name': 'Wine Shop', 'pluralName': 'Wine Shops', 'shortName': 'Wine Shop', 'icon': {'prefix': 'https://ss3.4sqi.net/img/categories_v2/shops/food_wineshop_', 'suffix': '.png'}, 'primary': True}], 'photos': {'count': 0, 'groups': []}}, 'referralId': 'e-0-538d1501498e69d6e82e13a9-4'}, {'reasons': {'count': 0, 'items': [{'summary': 'This spot is popular', 'type': 'general', 'reasonName': 'globalInteractionReason'}]}, 'venue': {'id': '4b9ad30ff964a52059d935e3', 'name': \"Showman's\", 'location': {'address': '375 W 125th St', 'crossStreet': 'Morningside Ave', 'lat': 40.81123567552911, 'lng': -73.95357533520179, 'labeledLatLngs': [{'label': 'display', 'lat': 40.81123567552911, 'lng': -73.95357533520179}], 'distance': 235, 'postalCode': '10027', 'cc': 'US', 'city': 'New York', 'state': 'NY', 'country': 'United States', 'formattedAddress': ['375 W 125th St (Morningside Ave)', 'New York, NY 10027', 'United States']}, 'categories': [{'id': '4bf58dd8d48988d1e7931735', 'name': 'Jazz Club', 'pluralName': 'Jazz Clubs', 'shortName': 'Jazz Club', 'icon': {'prefix': 'https://ss3.4sqi.net/img/categories_v2/arts_entertainment/musicvenue_jazzclub_', 'suffix': '.png'}, 'primary': True}], 'photos': {'count': 0, 'groups': []}}, 'referralId': 'e-0-4b9ad30ff964a52059d935e3-5'}, {'reasons': {'count': 0, 'items': [{'summary': 'This spot is popular', 'type': 'general', 'reasonName': 'globalInteractionReason'}]}, 'venue': {'id': '575359b2498e80be5bbcec78', 'name': \"Gavin Brown's Enterprise\", 'location': {'address': '439 W 127th St', 'lat': 40.813262, 'lng': -73.953891, 'labeledLatLngs': [{'label': 'display', 'lat': 40.813262, 'lng': -73.953891}], 'distance': 67, 'postalCode': '10027', 'cc': 'US', 'city': 'New York', 'state': 'NY', 'country': 'United States', 'formattedAddress': ['439 W 127th St', 'New York, NY 10027', 'United States']}, 'categories': [{'id': '4bf58dd8d48988d1e2931735', 'name': 'Art Gallery', 'pluralName': 'Art Galleries', 'shortName': 'Art Gallery', 'icon': {'prefix': 'https://ss3.4sqi.net/img/categories_v2/arts_entertainment/artgallery_', 'suffix': '.png'}, 'primary': True}], 'photos': {'count': 0, 'groups': []}}, 'referralId': 'e-0-575359b2498e80be5bbcec78-6'}, {'reasons': {'count': 0, 'items': [{'summary': 'This spot is popular', 'type': 'general', 'reasonName': 'globalInteractionReason'}]}, 'venue': {'id': '51b35586498e4fcfa012f235', 'name': 'Blink Fitness', 'location': {'address': '301 W 125th St', 'lat': 40.81053900386885, 'lng': -73.95146041913011, 'labeledLatLngs': [{'label': 'display', 'lat': 40.81053900386885, 'lng': -73.95146041913011}], 'distance': 338, 'postalCode': '10027', 'cc': 'US', 'city': 'New York', 'state': 'NY', 'country': 'United States', 'formattedAddress': ['301 W 125th St', 'New York, NY 10027', 'United States']}, 'categories': [{'id': '4bf58dd8d48988d176941735', 'name': 'Gym', 'pluralName': 'Gyms', 'shortName': 'Gym', 'icon': {'prefix': 'https://ss3.4sqi.net/img/categories_v2/building/gym_', 'suffix': '.png'}, 'primary': True}], 'photos': {'count': 0, 'groups': []}}, 'referralId': 'e-0-51b35586498e4fcfa012f235-7'}, {'reasons': {'count': 0, 'items': [{'summary': 'This spot is popular', 'type': 'general', 'reasonName': 'globalInteractionReason'}]}, 'venue': {'id': '4b92dc43f964a5204c2234e3', 'name': 'El Puerto Seafood and Fish Market', 'location': {'address': '511 W 125th St', 'crossStreet': 'Amsterdam and Broadway', 'lat': 40.813861024837166, 'lng': -73.95673661274444, 'labeledLatLngs': [{'label': 'display', 'lat': 40.813861024837166, 'lng': -73.95673661274444}], 'distance': 313, 'postalCode': '10027', 'cc': 'US', 'city': 'New York', 'state': 'NY', 'country': 'United States', 'formattedAddress': ['511 W 125th St (Amsterdam and Broadway)', 'New York, NY 10027', 'United States']}, 'categories': [{'id': '4bf58dd8d48988d1ce941735', 'name': 'Seafood Restaurant', 'pluralName': 'Seafood Restaurants', 'shortName': 'Seafood', 'icon': {'prefix': 'https://ss3.4sqi.net/img/categories_v2/food/seafood_', 'suffix': '.png'}, 'primary': True}], 'photos': {'count': 0, 'groups': []}}, 'referralId': 'e-0-4b92dc43f964a5204c2234e3-8'}, {'reasons': {'count': 0, 'items': [{'summary': 'This spot is popular', 'type': 'general', 'reasonName': 'globalInteractionReason'}]}, 'venue': {'id': '3fd66200f964a520f5ea1ee3', 'name': 'Apollo Theater', 'location': {'address': '253 W 125th St', 'crossStreet': 'btwn 7th & 8th Ave', 'lat': 40.80986187551455, 'lng': -73.95018783469122, 'labeledLatLngs': [{'label': 'display', 'lat': 40.80986187551455, 'lng': -73.95018783469122}], 'distance': 456, 'postalCode': '10027', 'cc': 'US', 'city': 'New York', 'state': 'NY', 'country': 'United States', 'formattedAddress': ['253 W 125th St (btwn 7th & 8th Ave)', 'New York, NY 10027', 'United States']}, 'categories': [{'id': '4bf58dd8d48988d137941735', 'name': 'Theater', 'pluralName': 'Theaters', 'shortName': 'Theater', 'icon': {'prefix': 'https://ss3.4sqi.net/img/categories_v2/arts_entertainment/performingarts_theater_', 'suffix': '.png'}, 'primary': True}], 'photos': {'count': 0, 'groups': []}, 'venuePage': {'id': '81730546'}}, 'referralId': 'e-0-3fd66200f964a520f5ea1ee3-9'}, {'reasons': {'count': 0, 'items': [{'summary': 'This spot is popular', 'type': 'general', 'reasonName': 'globalInteractionReason'}]}, 'venue': {'id': '4d4d926280cb6dcb4ae01101', 'name': 'Morningside Playground', 'location': {'address': 'Morningside Ave & W 123rd St', 'crossStreet': 'at W 122 St', 'lat': 40.8100725298005, 'lng': -73.95582282, 'labeledLatLngs': [{'label': 'display', 'lat': 40.8100725298005, 'lng': -73.95582282}], 'distance': 428, 'postalCode': '10027', 'cc': 'US', 'city': 'New York', 'state': 'NY', 'country': 'United States', 'formattedAddress': ['Morningside Ave & W 123rd St (at W 122 St)', 'New York, NY 10027', 'United States']}, 'categories': [{'id': '4bf58dd8d48988d1e7941735', 'name': 'Playground', 'pluralName': 'Playgrounds', 'shortName': 'Playground', 'icon': {'prefix': 'https://ss3.4sqi.net/img/categories_v2/parks_outdoors/playground_', 'suffix': '.png'}, 'primary': True}], 'photos': {'count': 0, 'groups': []}}, 'referralId': 'e-0-4d4d926280cb6dcb4ae01101-10'}, {'reasons': {'count': 0, 'items': [{'summary': 'This spot is popular', 'type': 'general', 'reasonName': 'globalInteractionReason'}]}, 'venue': {'id': '58c845c64886997a10e2cc5e', 'name': 'Clay', 'location': {'address': '553 Manhattan Ave', 'crossStreet': 'W 123rd Street', 'lat': 40.809462, 'lng': -73.953748, 'labeledLatLngs': [{'label': 'display', 'lat': 40.809462, 'lng': -73.953748}], 'distance': 433, 'postalCode': '10027', 'cc': 'US', 'city': 'New York', 'state': 'NY', 'country': 'United States', 'formattedAddress': ['553 Manhattan Ave (W 123rd Street)', 'New York, NY 10027', 'United States']}, 'categories': [{'id': '4bf58dd8d48988d14e941735', 'name': 'American Restaurant', 'pluralName': 'American Restaurants', 'shortName': 'American', 'icon': {'prefix': 'https://ss3.4sqi.net/img/categories_v2/food/default_', 'suffix': '.png'}, 'primary': True}], 'photos': {'count': 0, 'groups': []}}, 'referralId': 'e-0-58c845c64886997a10e2cc5e-11'}, {'reasons': {'count': 0, 'items': [{'summary': 'This spot is popular', 'type': 'general', 'reasonName': 'globalInteractionReason'}]}, 'venue': {'id': '52540e85498ef1386d7630b9', 'name': 'DSW Designer Shoe Warehouse', 'location': {'address': '301 West 125th Street', 'crossStreet': '8th avenue', 'lat': 40.810554, 'lng': -73.951457, 'labeledLatLngs': [{'label': 'display', 'lat': 40.810554, 'lng': -73.951457}], 'distance': 337, 'postalCode': '10027', 'cc': 'US', 'city': 'New York', 'state': 'NY', 'country': 'United States', 'formattedAddress': ['301 West 125th Street (8th avenue)', 'New York, NY 10027', 'United States']}, 'categories': [{'id': '4bf58dd8d48988d107951735', 'name': 'Shoe Store', 'pluralName': 'Shoe Stores', 'shortName': 'Shoes', 'icon': {'prefix': 'https://ss3.4sqi.net/img/categories_v2/shops/apparel_shoestore_', 'suffix': '.png'}, 'primary': True}], 'photos': {'count': 0, 'groups': []}}, 'referralId': 'e-0-52540e85498ef1386d7630b9-12'}, {'reasons': {'count': 0, 'items': [{'summary': 'This spot is popular', 'type': 'general', 'reasonName': 'globalInteractionReason'}]}, 'venue': {'id': '588503429e35d3344d7307b9', 'name': \"Charles' Pan Fried Chicken\", 'location': {'address': '2461 Frederick Douglass Blvd', 'crossStreet': 'by 132nd St', 'lat': 40.814537201540006, 'lng': -73.9480964550787, 'labeledLatLngs': [{'label': 'display', 'lat': 40.814537201540006, 'lng': -73.9480964550787}], 'distance': 441, 'postalCode': '10027', 'cc': 'US', 'city': 'New York', 'state': 'NY', 'country': 'United States', 'formattedAddress': ['2461 Frederick Douglass Blvd (by 132nd St)', 'New York, NY 10027', 'United States']}, 'categories': [{'id': '4d4ae6fc7a7b7dea34424761', 'name': 'Fried Chicken Joint', 'pluralName': 'Fried Chicken Joints', 'shortName': 'Fried Chicken', 'icon': {'prefix': 'https://ss3.4sqi.net/img/categories_v2/food/friedchicken_', 'suffix': '.png'}, 'primary': True}], 'photos': {'count': 0, 'groups': []}}, 'referralId': 'e-0-588503429e35d3344d7307b9-13'}, {'reasons': {'count': 0, 'items': [{'summary': 'This spot is popular', 'type': 'general', 'reasonName': 'globalInteractionReason'}]}, 'venue': {'id': '545d7535498e3b14efd5629b', 'name': 'Nabe Underground Lounge', 'location': {'address': '2367 Frederick Douglass Blvd', 'crossStreet': '127th Street', 'lat': 40.811587229572204, 'lng': -73.95050306430335, 'labeledLatLngs': [{'label': 'display', 'lat': 40.811587229572204, 'lng': -73.95050306430335}], 'distance': 291, 'postalCode': '10027', 'cc': 'US', 'city': 'New York', 'state': 'NY', 'country': 'United States', 'formattedAddress': ['2367 Frederick Douglass Blvd (127th Street)', 'New York, NY 10027', 'United States']}, 'categories': [{'id': '4bf58dd8d48988d121941735', 'name': 'Lounge', 'pluralName': 'Lounges', 'shortName': 'Lounge', 'icon': {'prefix': 'https://ss3.4sqi.net/img/categories_v2/nightlife/default_', 'suffix': '.png'}, 'primary': True}], 'photos': {'count': 0, 'groups': []}, 'venuePage': {'id': '189211813'}}, 'referralId': 'e-0-545d7535498e3b14efd5629b-14'}, {'reasons': {'count': 0, 'items': [{'summary': 'This spot is popular', 'type': 'general', 'reasonName': 'globalInteractionReason'}]}, 'venue': {'id': '53b86577498e69be2ef130c7', 'name': 'LightHouse Fish Market & Restaurant', 'location': {'address': '2451 Fredrick Douglas Blvd', 'crossStreet': 'btwn W 131st & W 132nd St', 'lat': 40.8142671706303, 'lng': -73.94815310035384, 'labeledLatLngs': [{'label': 'display', 'lat': 40.8142671706303, 'lng': -73.94815310035384}], 'distance': 429, 'postalCode': '10027', 'cc': 'US', 'city': 'Harlem', 'state': 'NY', 'country': 'United States', 'formattedAddress': ['2451 Fredrick Douglas Blvd (btwn W 131st & W 132nd St)', 'Harlem, NY 10027', 'United States']}, 'categories': [{'id': '4bf58dd8d48988d1ce941735', 'name': 'Seafood Restaurant', 'pluralName': 'Seafood Restaurants', 'shortName': 'Seafood', 'icon': {'prefix': 'https://ss3.4sqi.net/img/categories_v2/food/seafood_', 'suffix': '.png'}, 'primary': True}], 'photos': {'count': 0, 'groups': []}}, 'referralId': 'e-0-53b86577498e69be2ef130c7-15'}, {'reasons': {'count': 0, 'items': [{'summary': 'This spot is popular', 'type': 'general', 'reasonName': 'globalInteractionReason'}]}, 'venue': {'id': '4b5a2d65f964a52045b228e3', 'name': 'House of Hoops', 'location': {'address': '272 W 125th St #278', 'crossStreet': 'btwn 7th & 8th Ave', 'lat': 40.809683, 'lng': -73.9508041, 'labeledLatLngs': [{'label': 'display', 'lat': 40.809683, 'lng': -73.9508041}], 'distance': 448, 'postalCode': '10027', 'cc': 'US', 'city': 'New York', 'state': 'NY', 'country': 'United States', 'formattedAddress': ['272 W 125th St #278 (btwn 7th & 8th Ave)', 'New York, NY 10027', 'United States']}, 'categories': [{'id': '4bf58dd8d48988d1f2941735', 'name': 'Sporting Goods Shop', 'pluralName': 'Sporting Goods Shops', 'shortName': 'Sporting Goods', 'icon': {'prefix': 'https://ss3.4sqi.net/img/categories_v2/shops/sports_outdoors_', 'suffix': '.png'}, 'primary': True}], 'photos': {'count': 0, 'groups': []}}, 'referralId': 'e-0-4b5a2d65f964a52045b228e3-16'}, {'reasons': {'count': 0, 'items': [{'summary': 'This spot is popular', 'type': 'general', 'reasonName': 'globalInteractionReason'}]}, 'venue': {'id': '5bbd2f7e2f97ec002c80c7df', 'name': 'CVS pharmacy', 'location': {'address': '288 Saint Nicholas Ave', 'crossStreet': '125th Street', 'lat': 40.810600348681255, 'lng': -73.95252941001445, 'labeledLatLngs': [{'label': 'display', 'lat': 40.810600348681255, 'lng': -73.95252941001445}], 'distance': 306, 'postalCode': '10027', 'cc': 'US', 'city': 'New York', 'state': 'NY', 'country': 'United States', 'formattedAddress': ['288 Saint Nicholas Ave (125th Street)', 'New York, NY 10027', 'United States']}, 'categories': [{'id': '4bf58dd8d48988d10f951735', 'name': 'Pharmacy', 'pluralName': 'Pharmacies', 'shortName': 'Pharmacy', 'icon': {'prefix': 'https://ss3.4sqi.net/img/categories_v2/shops/pharmacy_', 'suffix': '.png'}, 'primary': True}], 'photos': {'count': 0, 'groups': []}}, 'referralId': 'e-0-5bbd2f7e2f97ec002c80c7df-17'}, {'reasons': {'count': 0, 'items': [{'summary': 'This spot is popular', 'type': 'general', 'reasonName': 'globalInteractionReason'}]}, 'venue': {'id': '4c0e86a6336220a1b55bcc77', 'name': 'Little Caesars Pizza', 'location': {'address': '377 W 125th St', 'lat': 40.811207098813796, 'lng': -73.95362386809576, 'labeledLatLngs': [{'label': 'display', 'lat': 40.811207098813796, 'lng': -73.95362386809576}], 'distance': 239, 'postalCode': '10027', 'cc': 'US', 'city': 'New York', 'state': 'NY', 'country': 'United States', 'formattedAddress': ['377 W 125th St', 'New York, NY 10027', 'United States']}, 'categories': [{'id': '4bf58dd8d48988d1ca941735', 'name': 'Pizza Place', 'pluralName': 'Pizza Places', 'shortName': 'Pizza', 'icon': {'prefix': 'https://ss3.4sqi.net/img/categories_v2/food/pizza_', 'suffix': '.png'}, 'primary': True}], 'photos': {'count': 0, 'groups': []}}, 'referralId': 'e-0-4c0e86a6336220a1b55bcc77-18'}, {'reasons': {'count': 0, 'items': [{'summary': 'This spot is popular', 'type': 'general', 'reasonName': 'globalInteractionReason'}]}, 'venue': {'id': '3fd66200f964a52006e91ee3', 'name': 'Max SoHa', 'location': {'address': '1274 Amsterdam Ave', 'crossStreet': 'W 123rd St.', 'lat': 40.81124079919392, 'lng': -73.9578685714203, 'labeledLatLngs': [{'label': 'display', 'lat': 40.81124079919392, 'lng': -73.9578685714203}], 'distance': 464, 'postalCode': '10027', 'cc': 'US', 'city': 'New York', 'state': 'NY', 'country': 'United States', 'formattedAddress': ['1274 Amsterdam Ave (W 123rd St.)', 'New York, NY 10027', 'United States']}, 'categories': [{'id': '4bf58dd8d48988d110941735', 'name': 'Italian Restaurant', 'pluralName': 'Italian Restaurants', 'shortName': 'Italian', 'icon': {'prefix': 'https://ss3.4sqi.net/img/categories_v2/food/italian_', 'suffix': '.png'}, 'primary': True}], 'photos': {'count': 0, 'groups': []}}, 'referralId': 'e-0-3fd66200f964a52006e91ee3-19'}]}]}}\n"
     ]
    },
    {
     "name": "stdout",
     "output_type": "stream",
     "text": [
      "Massive Art Loft - Best Manhattan Location Ever!\n",
      "{'meta': {'code': 200, 'requestId': '5e615ea71a4b0a001c5c69e8'}, 'response': {'suggestedFilters': {'header': 'Tap to show:', 'filters': [{'name': '$-$$$$', 'key': 'price'}, {'name': 'Open now', 'key': 'openNow'}]}, 'headerLocation': 'NoMad', 'headerFullLocation': 'NoMad, New York', 'headerLocationGranularity': 'neighborhood', 'totalResults': 231, 'suggestedBounds': {'ne': {'lat': 40.749990004500006, 'lng': -73.98473140250329}, 'sw': {'lat': 40.7409899955, 'lng': -73.9965885974967}}, 'groups': [{'type': 'Recommended Places', 'name': 'recommended', 'items': [{'reasons': {'count': 0, 'items': [{'summary': 'This spot is popular', 'type': 'general', 'reasonName': 'globalInteractionReason'}]}, 'venue': {'id': '4ae6f117f964a520a6a721e3', 'name': 'The NoMad Hotel', 'location': {'address': '1170 Broadway', 'crossStreet': 'at W 28th St', 'lat': 40.74498114811664, 'lng': -73.98881884246589, 'labeledLatLngs': [{'label': 'display', 'lat': 40.74498114811664, 'lng': -73.98881884246589}], 'distance': 165, 'postalCode': '10001', 'cc': 'US', 'city': 'New York', 'state': 'NY', 'country': 'United States', 'formattedAddress': ['1170 Broadway (at W 28th St)', 'New York, NY 10001', 'United States']}, 'categories': [{'id': '4bf58dd8d48988d1fa931735', 'name': 'Hotel', 'pluralName': 'Hotels', 'shortName': 'Hotel', 'icon': {'prefix': 'https://ss3.4sqi.net/img/categories_v2/travel/hotel_', 'suffix': '.png'}, 'primary': True}], 'photos': {'count': 0, 'groups': []}, 'venuePage': {'id': '35938645'}}, 'referralId': 'e-0-4ae6f117f964a520a6a721e3-0'}, {'reasons': {'count': 0, 'items': [{'summary': 'This spot is popular', 'type': 'general', 'reasonName': 'globalInteractionReason'}]}, 'venue': {'id': '4efe614e0e618ea7655927b8', 'name': 'Body & Pole', 'location': {'address': '115 W 27th St, 2FL', 'crossStreet': '6th and 7th Ave', 'lat': 40.74575059255085, 'lng': -73.99168146292683, 'labeledLatLngs': [{'label': 'display', 'lat': 40.74575059255085, 'lng': -73.99168146292683}], 'distance': 90, 'postalCode': '10001', 'cc': 'US', 'city': 'New York', 'state': 'NY', 'country': 'United States', 'formattedAddress': ['115 W 27th St, 2FL (6th and 7th Ave)', 'New York, NY 10001', 'United States']}, 'categories': [{'id': '4bf58dd8d48988d175941735', 'name': 'Gym / Fitness Center', 'pluralName': 'Gyms or Fitness Centers', 'shortName': 'Gym / Fitness', 'icon': {'prefix': 'https://ss3.4sqi.net/img/categories_v2/building/gym_', 'suffix': '.png'}, 'primary': True}], 'photos': {'count': 0, 'groups': []}, 'venuePage': {'id': '73025560'}}, 'referralId': 'e-0-4efe614e0e618ea7655927b8-1'}, {'reasons': {'count': 0, 'items': [{'summary': 'This spot is popular', 'type': 'general', 'reasonName': 'globalInteractionReason'}]}, 'venue': {'id': '4a778d7ff964a520c8e41fe3', 'name': 'Yoga to the People', 'location': {'address': '115 W 27th St Fl 3', 'crossStreet': 'btwn 6th & 7th Ave', 'lat': 40.7457778869765, 'lng': -73.99166961207493, 'labeledLatLngs': [{'label': 'display', 'lat': 40.7457778869765, 'lng': -73.99166961207493}], 'distance': 90, 'postalCode': '10001', 'cc': 'US', 'city': 'New York', 'state': 'NY', 'country': 'United States', 'formattedAddress': ['115 W 27th St Fl 3 (btwn 6th & 7th Ave)', 'New York, NY 10001', 'United States']}, 'categories': [{'id': '4bf58dd8d48988d102941735', 'name': 'Yoga Studio', 'pluralName': 'Yoga Studios', 'shortName': 'Yoga Studio', 'icon': {'prefix': 'https://ss3.4sqi.net/img/categories_v2/shops/gym_yogastudio_', 'suffix': '.png'}, 'primary': True}], 'photos': {'count': 0, 'groups': []}}, 'referralId': 'e-0-4a778d7ff964a520c8e41fe3-2'}, {'reasons': {'count': 0, 'items': [{'summary': 'This spot is popular', 'type': 'general', 'reasonName': 'globalInteractionReason'}]}, 'venue': {'id': '543c0571498ef7b662ab79bd', 'name': 'SoulCycle NoMad', 'location': {'address': '12 W 27th St', 'crossStreet': 'at Broadway', 'lat': 40.74471670714635, 'lng': -73.98918997482575, 'labeledLatLngs': [{'label': 'display', 'lat': 40.74471670714635, 'lng': -73.98918997482575}], 'distance': 150, 'postalCode': '10001', 'cc': 'US', 'city': 'New York', 'state': 'NY', 'country': 'United States', 'formattedAddress': ['12 W 27th St (at Broadway)', 'New York, NY 10001', 'United States']}, 'categories': [{'id': '52f2ab2ebcbc57f1066b8b49', 'name': 'Cycle Studio', 'pluralName': 'Cycle Studios', 'shortName': 'Cycle Studio', 'icon': {'prefix': 'https://ss3.4sqi.net/img/categories_v2/shops/bikeshop_', 'suffix': '.png'}, 'primary': True}], 'photos': {'count': 0, 'groups': []}}, 'referralId': 'e-0-543c0571498ef7b662ab79bd-3'}, {'reasons': {'count': 0, 'items': [{'summary': 'This spot is popular', 'type': 'general', 'reasonName': 'globalInteractionReason'}]}, 'venue': {'id': '5dc3f442fee8a10008ad4efc', 'name': 'Milk Bar NYC Flagship', 'location': {'address': '1196 Broadway', 'lat': 40.745820816037686, 'lng': -73.98839214629743, 'labeledLatLngs': [{'label': 'display', 'lat': 40.745820816037686, 'lng': -73.98839214629743}], 'distance': 194, 'postalCode': '10001', 'cc': 'US', 'city': 'New York', 'state': 'NY', 'country': 'United States', 'formattedAddress': ['1196 Broadway', 'New York, NY 10001', 'United States']}, 'categories': [{'id': '4bf58dd8d48988d1d0941735', 'name': 'Dessert Shop', 'pluralName': 'Dessert Shops', 'shortName': 'Desserts', 'icon': {'prefix': 'https://ss3.4sqi.net/img/categories_v2/food/dessert_', 'suffix': '.png'}, 'primary': True}], 'photos': {'count': 0, 'groups': []}}, 'referralId': 'e-0-5dc3f442fee8a10008ad4efc-4'}, {'reasons': {'count': 0, 'items': [{'summary': 'This spot is popular', 'type': 'general', 'reasonName': 'globalInteractionReason'}]}, 'venue': {'id': '53a10cef498e173a807996db', 'name': 'The NoMad Bar', 'location': {'address': '10 W 28th St', 'crossStreet': 'at Broadway', 'lat': 40.745056, 'lng': -73.988289, 'labeledLatLngs': [{'label': 'display', 'lat': 40.745056, 'lng': -73.988289}], 'distance': 205, 'postalCode': '10001', 'cc': 'US', 'city': 'New York', 'state': 'NY', 'country': 'United States', 'formattedAddress': ['10 W 28th St (at Broadway)', 'New York, NY 10001', 'United States']}, 'categories': [{'id': '4bf58dd8d48988d11e941735', 'name': 'Cocktail Bar', 'pluralName': 'Cocktail Bars', 'shortName': 'Cocktail', 'icon': {'prefix': 'https://ss3.4sqi.net/img/categories_v2/nightlife/cocktails_', 'suffix': '.png'}, 'primary': True}], 'photos': {'count': 0, 'groups': []}}, 'referralId': 'e-0-53a10cef498e173a807996db-5'}, {'reasons': {'count': 0, 'items': [{'summary': 'This spot is popular', 'type': 'general', 'reasonName': 'globalInteractionReason'}]}, 'venue': {'id': '4f6e6af3e4b0463c94b07375', 'name': 'The NoMad Restaurant', 'location': {'address': '1170 Broadway', 'crossStreet': 'inside NoMad Hotel', 'lat': 40.74505591196884, 'lng': -73.98856023764966, 'labeledLatLngs': [{'label': 'display', 'lat': 40.74505591196884, 'lng': -73.98856023764966}], 'distance': 183, 'postalCode': '10001', 'cc': 'US', 'city': 'New York', 'state': 'NY', 'country': 'United States', 'formattedAddress': ['1170 Broadway (inside NoMad Hotel)', 'New York, NY 10001', 'United States']}, 'categories': [{'id': '4bf58dd8d48988d14e941735', 'name': 'American Restaurant', 'pluralName': 'American Restaurants', 'shortName': 'American', 'icon': {'prefix': 'https://ss3.4sqi.net/img/categories_v2/food/default_', 'suffix': '.png'}, 'primary': True}], 'photos': {'count': 0, 'groups': []}}, 'referralId': 'e-0-4f6e6af3e4b0463c94b07375-6'}, {'reasons': {'count': 0, 'items': [{'summary': 'This spot is popular', 'type': 'general', 'reasonName': 'globalInteractionReason'}]}, 'venue': {'id': '5707185f498ea5a841fff50a', 'name': 'The Magician @ Nomad Upstairs', 'location': {'lat': 40.74506284258044, 'lng': -73.98841756974652, 'labeledLatLngs': [{'label': 'display', 'lat': 40.74506284258044, 'lng': -73.98841756974652}], 'distance': 195, 'cc': 'US', 'neighborhood': 'NoMad', 'city': 'New York', 'state': 'NY', 'country': 'United States', 'formattedAddress': ['New York, NY', 'United States']}, 'categories': [{'id': '4bf58dd8d48988d135941735', 'name': 'Indie Theater', 'pluralName': 'Indie Theaters', 'shortName': 'Indie', 'icon': {'prefix': 'https://ss3.4sqi.net/img/categories_v2/arts_entertainment/performingarts_theater_', 'suffix': '.png'}, 'primary': True}], 'photos': {'count': 0, 'groups': []}}, 'referralId': 'e-0-5707185f498ea5a841fff50a-7'}, {'reasons': {'count': 0, 'items': [{'summary': 'This spot is popular', 'type': 'general', 'reasonName': 'globalInteractionReason'}]}, 'venue': {'id': '51c080d9abd88bfe62869a59', 'name': 'sweetgreen', 'location': {'address': '1164 Broadway', 'crossStreet': 'at W 28th St', 'lat': 40.74486837659706, 'lng': -73.98883952924561, 'labeledLatLngs': [{'label': 'display', 'lat': 40.74486837659706, 'lng': -73.98883952924561}], 'distance': 168, 'postalCode': '10001', 'cc': 'US', 'city': 'New York', 'state': 'NY', 'country': 'United States', 'formattedAddress': ['1164 Broadway (at W 28th St)', 'New York, NY 10001', 'United States']}, 'categories': [{'id': '4bf58dd8d48988d1bd941735', 'name': 'Salad Place', 'pluralName': 'Salad Places', 'shortName': 'Salad', 'icon': {'prefix': 'https://ss3.4sqi.net/img/categories_v2/food/salad_', 'suffix': '.png'}, 'primary': True}], 'delivery': {'id': '1033844', 'url': 'https://www.seamless.com/menu/sweetgreen-1164-broadway-new-york/1033844?affiliate=1131&utm_source=foursquare-affiliate-network&utm_medium=affiliate&utm_campaign=1131&utm_content=1033844', 'provider': {'name': 'seamless', 'icon': {'prefix': 'https://fastly.4sqi.net/img/general/cap/', 'sizes': [40, 50], 'name': '/delivery_provider_seamless_20180129.png'}}}, 'photos': {'count': 0, 'groups': []}}, 'referralId': 'e-0-51c080d9abd88bfe62869a59-8'}, {'reasons': {'count': 0, 'items': [{'summary': 'This spot is popular', 'type': 'general', 'reasonName': 'globalInteractionReason'}]}, 'venue': {'id': '57977947498eeb2367c80fec', 'name': 'Made Nice', 'location': {'address': '8 W 28th St', 'crossStreet': 'btwn Broadway & 5th Ave', 'lat': 40.74508326235975, 'lng': -73.9883347374986, 'labeledLatLngs': [{'label': 'display', 'lat': 40.74508326235975, 'lng': -73.9883347374986}], 'distance': 201, 'postalCode': '10001', 'cc': 'US', 'neighborhood': 'NoMad', 'city': 'New York', 'state': 'NY', 'country': 'United States', 'formattedAddress': ['8 W 28th St (btwn Broadway & 5th Ave)', 'New York, NY 10001', 'United States']}, 'categories': [{'id': '4bf58dd8d48988d1c4941735', 'name': 'Restaurant', 'pluralName': 'Restaurants', 'shortName': 'Restaurant', 'icon': {'prefix': 'https://ss3.4sqi.net/img/categories_v2/food/default_', 'suffix': '.png'}, 'primary': True}], 'delivery': {'id': '1148556', 'url': 'https://www.seamless.com/menu/made-nice-8-w-28th-st-new-york/1148556?affiliate=1131&utm_source=foursquare-affiliate-network&utm_medium=affiliate&utm_campaign=1131&utm_content=1148556', 'provider': {'name': 'seamless', 'icon': {'prefix': 'https://fastly.4sqi.net/img/general/cap/', 'sizes': [40, 50], 'name': '/delivery_provider_seamless_20180129.png'}}}, 'photos': {'count': 0, 'groups': []}}, 'referralId': 'e-0-57977947498eeb2367c80fec-9'}, {'reasons': {'count': 0, 'items': [{'summary': 'This spot is popular', 'type': 'general', 'reasonName': 'globalInteractionReason'}]}, 'venue': {'id': '4f038a38e30090dfdb03701c', 'name': 'iLoveKickboxing', 'location': {'address': '149 W 27th Street', 'crossStreet': 'btwn 6th & 7th Ave', 'lat': 40.74634, 'lng': -73.9929, 'labeledLatLngs': [{'label': 'display', 'lat': 40.74634, 'lng': -73.9929}], 'distance': 211, 'postalCode': '10001', 'cc': 'US', 'city': 'New York', 'state': 'NY', 'country': 'United States', 'formattedAddress': ['149 W 27th Street (btwn 6th & 7th Ave)', 'New York, NY 10001', 'United States']}, 'categories': [{'id': '52f2ab2ebcbc57f1066b8b47', 'name': 'Boxing Gym', 'pluralName': 'Boxing Gyms', 'shortName': 'Boxing Gym', 'icon': {'prefix': 'https://ss3.4sqi.net/img/categories_v2/building/gym_', 'suffix': '.png'}, 'primary': True}], 'photos': {'count': 0, 'groups': []}, 'venuePage': {'id': '83797123'}}, 'referralId': 'e-0-4f038a38e30090dfdb03701c-10'}, {'reasons': {'count': 0, 'items': [{'summary': 'This spot is popular', 'type': 'general', 'reasonName': 'globalInteractionReason'}]}, 'venue': {'id': '4f860f7de4b0f18937861f61', 'name': 'The Library at The NoMad', 'location': {'address': '1170 Broadway (at 28th St)', 'crossStreet': 'at 28th St', 'lat': 40.74512452960742, 'lng': -73.98833043276406, 'labeledLatLngs': [{'label': 'display', 'lat': 40.74512452960742, 'lng': -73.98833043276406}], 'distance': 200, 'postalCode': '10001', 'cc': 'US', 'neighborhood': 'NoMad', 'city': 'New York', 'state': 'NY', 'country': 'United States', 'formattedAddress': ['1170 Broadway (at 28th St) (at 28th St)', 'New York, NY 10001', 'United States']}, 'categories': [{'id': '4bf58dd8d48988d1d5941735', 'name': 'Hotel Bar', 'pluralName': 'Hotel Bars', 'shortName': 'Hotel Bar', 'icon': {'prefix': 'https://ss3.4sqi.net/img/categories_v2/travel/hotel_bar_', 'suffix': '.png'}, 'primary': True}], 'photos': {'count': 0, 'groups': []}, 'venuePage': {'id': '550410941'}}, 'referralId': 'e-0-4f860f7de4b0f18937861f61-11'}, {'reasons': {'count': 0, 'items': [{'summary': 'This spot is popular', 'type': 'general', 'reasonName': 'globalInteractionReason'}]}, 'venue': {'id': '574c7ac3498e50359ba4196c', 'name': 'Lady M Cake Boutique', 'location': {'address': '1178 Broadway', 'crossStreet': 'W28th', 'lat': 40.74520860315742, 'lng': -73.98870258275831, 'labeledLatLngs': [{'label': 'display', 'lat': 40.74520860315742, 'lng': -73.98870258275831}], 'distance': 168, 'postalCode': '10001', 'cc': 'US', 'city': 'New York', 'state': 'NY', 'country': 'United States', 'formattedAddress': ['1178 Broadway (W28th)', 'New York, NY 10001', 'United States']}, 'categories': [{'id': '4bf58dd8d48988d1d0941735', 'name': 'Dessert Shop', 'pluralName': 'Dessert Shops', 'shortName': 'Desserts', 'icon': {'prefix': 'https://ss3.4sqi.net/img/categories_v2/food/dessert_', 'suffix': '.png'}, 'primary': True}], 'photos': {'count': 0, 'groups': []}}, 'referralId': 'e-0-574c7ac3498e50359ba4196c-12'}, {'reasons': {'count': 0, 'items': [{'summary': 'This spot is popular', 'type': 'general', 'reasonName': 'globalInteractionReason'}]}, 'venue': {'id': '58b8ed467220e661ddf34104', 'name': 'KazuNori: The Original Hand Roll Bar', 'location': {'address': '15 W 28th St', 'lat': 40.745156795853866, 'lng': -73.98821168140111, 'labeledLatLngs': [{'label': 'display', 'lat': 40.745156795853866, 'lng': -73.98821168140111}], 'distance': 209, 'postalCode': '10001', 'cc': 'US', 'city': 'New York', 'state': 'NY', 'country': 'United States', 'formattedAddress': ['15 W 28th St', 'New York, NY 10001', 'United States']}, 'categories': [{'id': '4bf58dd8d48988d111941735', 'name': 'Japanese Restaurant', 'pluralName': 'Japanese Restaurants', 'shortName': 'Japanese', 'icon': {'prefix': 'https://ss3.4sqi.net/img/categories_v2/food/japanese_', 'suffix': '.png'}, 'primary': True}], 'photos': {'count': 0, 'groups': []}}, 'referralId': 'e-0-58b8ed467220e661ddf34104-13'}, {'reasons': {'count': 0, 'items': [{'summary': 'This spot is popular', 'type': 'general', 'reasonName': 'globalInteractionReason'}]}, 'venue': {'id': '59ac2ec6fdb9a734dd847025', 'name': 'Paper Coffee', 'location': {'address': '44 W 29th', 'crossStreet': 'btwn 6th Ave & Broadway', 'lat': 40.74631409352761, 'lng': -73.98957118391989, 'labeledLatLngs': [{'label': 'display', 'lat': 40.74631409352761, 'lng': -73.98957118391989}], 'distance': 129, 'postalCode': '10001', 'cc': 'US', 'neighborhood': 'NoMad', 'city': 'New York', 'state': 'NY', 'country': 'United States', 'formattedAddress': ['44 W 29th (btwn 6th Ave & Broadway)', 'New York, NY 10001', 'United States']}, 'categories': [{'id': '4bf58dd8d48988d1e0931735', 'name': 'Coffee Shop', 'pluralName': 'Coffee Shops', 'shortName': 'Coffee Shop', 'icon': {'prefix': 'https://ss3.4sqi.net/img/categories_v2/food/coffeeshop_', 'suffix': '.png'}, 'primary': True}], 'photos': {'count': 0, 'groups': []}, 'venuePage': {'id': '553162992'}}, 'referralId': 'e-0-59ac2ec6fdb9a734dd847025-14'}, {'reasons': {'count': 0, 'items': [{'summary': 'This spot is popular', 'type': 'general', 'reasonName': 'globalInteractionReason'}]}, 'venue': {'id': '59e63da08c35dc3e57ab5520', 'name': 'Patent Pending', 'location': {'address': '49 W 27th St', 'crossStreet': 'btwn Broadway & 6th Ave', 'lat': 40.74513348988525, 'lng': -73.99036092957657, 'labeledLatLngs': [{'label': 'display', 'lat': 40.74513348988525, 'lng': -73.99036092957657}], 'distance': 47, 'postalCode': '10001', 'cc': 'US', 'city': 'New York', 'state': 'NY', 'country': 'United States', 'formattedAddress': ['49 W 27th St (btwn Broadway & 6th Ave)', 'New York, NY 10001', 'United States']}, 'categories': [{'id': '4bf58dd8d48988d1d4941735', 'name': 'Speakeasy', 'pluralName': 'Speakeasies', 'shortName': 'Speakeasy', 'icon': {'prefix': 'https://ss3.4sqi.net/img/categories_v2/nightlife/secretbar_', 'suffix': '.png'}, 'primary': True}], 'photos': {'count': 0, 'groups': []}, 'venuePage': {'id': '459916805'}}, 'referralId': 'e-0-59e63da08c35dc3e57ab5520-15'}, {'reasons': {'count': 0, 'items': [{'summary': 'This spot is popular', 'type': 'general', 'reasonName': 'globalInteractionReason'}]}, 'venue': {'id': '525dcbc411d2ee4aee0b0cf7', 'name': 'My Cooking Party', 'location': {'address': '25 W 26th St Fl 7', 'lat': 40.744224195252436, 'lng': -73.99007917105816, 'labeledLatLngs': [{'label': 'display', 'lat': 40.744224195252436, 'lng': -73.99007917105816}], 'distance': 149, 'postalCode': '10010', 'cc': 'US', 'city': 'New York', 'state': 'NY', 'country': 'United States', 'formattedAddress': ['25 W 26th St Fl 7', 'New York, NY 10010', 'United States']}, 'categories': [{'id': '4d4b7105d754a06374d81259', 'name': 'Food', 'pluralName': 'Food', 'shortName': 'Food', 'icon': {'prefix': 'https://ss3.4sqi.net/img/categories_v2/food/default_', 'suffix': '.png'}, 'primary': True}], 'photos': {'count': 0, 'groups': []}, 'venuePage': {'id': '92626763'}}, 'referralId': 'e-0-525dcbc411d2ee4aee0b0cf7-16'}, {'reasons': {'count': 0, 'items': [{'summary': 'This spot is popular', 'type': 'general', 'reasonName': 'globalInteractionReason'}]}, 'venue': {'id': '546010dd498eb987b7267620', 'name': 'Dig Inn', 'location': {'address': '1178 Broadway', 'crossStreet': 'at W 28th St', 'lat': 40.745348, 'lng': -73.988496, 'labeledLatLngs': [{'label': 'display', 'lat': 40.745348, 'lng': -73.988496}], 'distance': 183, 'postalCode': '10001', 'cc': 'US', 'city': 'New York', 'state': 'NY', 'country': 'United States', 'formattedAddress': ['1178 Broadway (at W 28th St)', 'New York, NY 10001', 'United States']}, 'categories': [{'id': '4bf58dd8d48988d157941735', 'name': 'New American Restaurant', 'pluralName': 'New American Restaurants', 'shortName': 'New American', 'icon': {'prefix': 'https://ss3.4sqi.net/img/categories_v2/food/newamerican_', 'suffix': '.png'}, 'primary': True}], 'photos': {'count': 0, 'groups': []}}, 'referralId': 'e-0-546010dd498eb987b7267620-17'}, {'reasons': {'count': 0, 'items': [{'summary': 'This spot is popular', 'type': 'general', 'reasonName': 'globalInteractionReason'}]}, 'venue': {'id': '4aed0d90f964a520f2cc21e3', 'name': 'The Flatiron Room', 'location': {'address': '37 W 26th St', 'crossStreet': 'btwn Broadway & 6th Ave', 'lat': 40.74449173183035, 'lng': -73.99054451145527, 'labeledLatLngs': [{'label': 'display', 'lat': 40.74449173183035, 'lng': -73.99054451145527}], 'distance': 111, 'postalCode': '10010', 'cc': 'US', 'city': 'New York', 'state': 'NY', 'country': 'United States', 'formattedAddress': ['37 W 26th St (btwn Broadway & 6th Ave)', 'New York, NY 10010', 'United States']}, 'categories': [{'id': '4bf58dd8d48988d121941735', 'name': 'Lounge', 'pluralName': 'Lounges', 'shortName': 'Lounge', 'icon': {'prefix': 'https://ss3.4sqi.net/img/categories_v2/nightlife/default_', 'suffix': '.png'}, 'primary': True}], 'photos': {'count': 0, 'groups': []}, 'venuePage': {'id': '50353350'}}, 'referralId': 'e-0-4aed0d90f964a520f2cc21e3-18'}, {'reasons': {'count': 0, 'items': [{'summary': 'This spot is popular', 'type': 'general', 'reasonName': 'globalInteractionReason'}]}, 'venue': {'id': '4bec60a5f909ef3b2808a9c6', 'name': 'Kimpton Hotel Eventi', 'location': {'address': '851 Avenue of the Americas', 'crossStreet': 'btwn W 29th & W 30th St', 'lat': 40.747224, 'lng': -73.98996, 'labeledLatLngs': [{'label': 'display', 'lat': 40.747224, 'lng': -73.98996}], 'distance': 201, 'postalCode': '10001', 'cc': 'US', 'city': 'New York', 'state': 'NY', 'country': 'United States', 'formattedAddress': ['851 Avenue of the Americas (btwn W 29th & W 30th St)', 'New York, NY 10001', 'United States']}, 'categories': [{'id': '4bf58dd8d48988d1fa931735', 'name': 'Hotel', 'pluralName': 'Hotels', 'shortName': 'Hotel', 'icon': {'prefix': 'https://ss3.4sqi.net/img/categories_v2/travel/hotel_', 'suffix': '.png'}, 'primary': True}], 'photos': {'count': 0, 'groups': []}}, 'referralId': 'e-0-4bec60a5f909ef3b2808a9c6-19'}]}]}}\n"
     ]
    },
    {
     "name": "stdout",
     "output_type": "stream",
     "text": [
      "Luxury Tribeca 1BR w/ Gym, Doorman + Roof deck by Blueground\n",
      "{'meta': {'code': 200, 'requestId': '5e615d6c006dce001b37b0e4'}, 'response': {'suggestedFilters': {'header': 'Tap to show:', 'filters': [{'name': 'Open now', 'key': 'openNow'}, {'name': '$-$$$$', 'key': 'price'}]}, 'headerLocation': 'Tribeca', 'headerFullLocation': 'Tribeca, New York', 'headerLocationGranularity': 'neighborhood', 'totalResults': 187, 'suggestedBounds': {'ne': {'lat': 40.7188300045, 'lng': -74.00480417806342}, 'sw': {'lat': 40.709829995499994, 'lng': -74.0166558219366}}, 'groups': [{'type': 'Recommended Places', 'name': 'recommended', 'items': [{'reasons': {'count': 0, 'items': [{'summary': 'This spot is popular', 'type': 'general', 'reasonName': 'globalInteractionReason'}]}, 'venue': {'id': '4af5d65ff964a52091fd21e3', 'name': 'Korin', 'location': {'address': '57 Warren St', 'crossStreet': 'Church St', 'lat': 40.71482437714839, 'lng': -74.00940425461492, 'labeledLatLngs': [{'label': 'display', 'lat': 40.71482437714839, 'lng': -74.00940425461492}], 'distance': 124, 'postalCode': '10007', 'cc': 'US', 'neighborhood': 'Tribeca', 'city': 'New York', 'state': 'NY', 'country': 'United States', 'formattedAddress': ['57 Warren St (Church St)', 'New York, NY 10007', 'United States']}, 'categories': [{'id': '4bf58dd8d48988d1f8941735', 'name': 'Furniture / Home Store', 'pluralName': 'Furniture / Home Stores', 'shortName': 'Furniture / Home', 'icon': {'prefix': 'https://ss3.4sqi.net/img/categories_v2/shops/furniture_', 'suffix': '.png'}, 'primary': True}], 'photos': {'count': 0, 'groups': []}, 'venuePage': {'id': '33104775'}}, 'referralId': 'e-0-4af5d65ff964a52091fd21e3-0'}, {'reasons': {'count': 0, 'items': [{'summary': 'This spot is popular', 'type': 'general', 'reasonName': 'globalInteractionReason'}]}, 'venue': {'id': '5d5f24ec09484500079aee00', 'name': 'Los Tacos No. 1', 'location': {'address': '136 Church St', 'lat': 40.714267, 'lng': -74.008756, 'labeledLatLngs': [{'label': 'display', 'lat': 40.714267, 'lng': -74.008756}], 'distance': 166, 'postalCode': '10007', 'cc': 'US', 'city': 'New York', 'state': 'NY', 'country': 'United States', 'formattedAddress': ['136 Church St', 'New York, NY 10007', 'United States']}, 'categories': [{'id': '4bf58dd8d48988d151941735', 'name': 'Taco Place', 'pluralName': 'Taco Places', 'shortName': 'Tacos', 'icon': {'prefix': 'https://ss3.4sqi.net/img/categories_v2/food/taco_', 'suffix': '.png'}, 'primary': True}], 'photos': {'count': 0, 'groups': []}}, 'referralId': 'e-0-5d5f24ec09484500079aee00-1'}, {'reasons': {'count': 0, 'items': [{'summary': 'This spot is popular', 'type': 'general', 'reasonName': 'globalInteractionReason'}]}, 'venue': {'id': '54148bc6498ea7bb8c05b70a', 'name': 'Juice Press', 'location': {'address': '83 Murray St', 'crossStreet': 'btwn Greenwich St & W Broadway', 'lat': 40.71478769908051, 'lng': -74.0111317502157, 'labeledLatLngs': [{'label': 'display', 'lat': 40.71478769908051, 'lng': -74.0111317502157}], 'distance': 61, 'postalCode': '10007', 'cc': 'US', 'city': 'New York', 'state': 'NY', 'country': 'United States', 'formattedAddress': ['83 Murray St (btwn Greenwich St & W Broadway)', 'New York, NY 10007', 'United States']}, 'categories': [{'id': '4bf58dd8d48988d1d3941735', 'name': 'Vegetarian / Vegan Restaurant', 'pluralName': 'Vegetarian / Vegan Restaurants', 'shortName': 'Vegetarian / Vegan', 'icon': {'prefix': 'https://ss3.4sqi.net/img/categories_v2/food/vegetarian_', 'suffix': '.png'}, 'primary': True}], 'photos': {'count': 0, 'groups': []}}, 'referralId': 'e-0-54148bc6498ea7bb8c05b70a-2'}, {'reasons': {'count': 0, 'items': [{'summary': 'This spot is popular', 'type': 'general', 'reasonName': 'globalInteractionReason'}]}, 'venue': {'id': '4c154c9a77cea593c401d260', 'name': 'Takahachi Bakery', 'location': {'address': '25 Murray St', 'crossStreet': 'at Church St', 'lat': 40.713652845301894, 'lng': -74.0088038953017, 'labeledLatLngs': [{'label': 'display', 'lat': 40.713652845301894, 'lng': -74.0088038953017}], 'distance': 179, 'postalCode': '10007', 'cc': 'US', 'city': 'New York', 'state': 'NY', 'country': 'United States', 'formattedAddress': ['25 Murray St (at Church St)', 'New York, NY 10007', 'United States']}, 'categories': [{'id': '4bf58dd8d48988d16a941735', 'name': 'Bakery', 'pluralName': 'Bakeries', 'shortName': 'Bakery', 'icon': {'prefix': 'https://ss3.4sqi.net/img/categories_v2/food/bakery_', 'suffix': '.png'}, 'primary': True}], 'photos': {'count': 0, 'groups': []}, 'venuePage': {'id': '85495566'}}, 'referralId': 'e-0-4c154c9a77cea593c401d260-3'}, {'reasons': {'count': 0, 'items': [{'summary': 'This spot is popular', 'type': 'general', 'reasonName': 'globalInteractionReason'}]}, 'venue': {'id': '4adcf23cf964a520cc6221e3', 'name': 'Chambers Street Wines', 'location': {'address': '148 Chambers St', 'crossStreet': 'btwn West Broadway & Hudson St', 'lat': 40.715773063928374, 'lng': -74.00971823312332, 'labeledLatLngs': [{'label': 'display', 'lat': 40.715773063928374, 'lng': -74.00971823312332}], 'distance': 181, 'postalCode': '10007', 'cc': 'US', 'city': 'New York', 'state': 'NY', 'country': 'United States', 'formattedAddress': ['148 Chambers St (btwn West Broadway & Hudson St)', 'New York, NY 10007', 'United States']}, 'categories': [{'id': '4bf58dd8d48988d119951735', 'name': 'Wine Shop', 'pluralName': 'Wine Shops', 'shortName': 'Wine Shop', 'icon': {'prefix': 'https://ss3.4sqi.net/img/categories_v2/shops/food_wineshop_', 'suffix': '.png'}, 'primary': True}], 'photos': {'count': 0, 'groups': []}}, 'referralId': 'e-0-4adcf23cf964a520cc6221e3-4'}, {'reasons': {'count': 0, 'items': [{'summary': 'This spot is popular', 'type': 'general', 'reasonName': 'globalInteractionReason'}]}, 'venue': {'id': '49bc3b0af964a52020541fe3', 'name': 'Whole Foods Market', 'location': {'address': '270 Greenwich Street', 'crossStreet': 'at Warren St', 'lat': 40.715579155420606, 'lng': -74.01136823958119, 'labeledLatLngs': [{'label': 'display', 'lat': 40.715579155420606, 'lng': -74.01136823958119}], 'distance': 149, 'postalCode': '10007', 'cc': 'US', 'neighborhood': 'Tribeca', 'city': 'New York', 'state': 'NY', 'country': 'United States', 'formattedAddress': ['270 Greenwich Street (at Warren St)', 'New York, NY 10007', 'United States']}, 'categories': [{'id': '4bf58dd8d48988d118951735', 'name': 'Grocery Store', 'pluralName': 'Grocery Stores', 'shortName': 'Grocery Store', 'icon': {'prefix': 'https://ss3.4sqi.net/img/categories_v2/shops/food_grocery_', 'suffix': '.png'}, 'primary': True}], 'photos': {'count': 0, 'groups': []}}, 'referralId': 'e-0-49bc3b0af964a52020541fe3-5'}, {'reasons': {'count': 0, 'items': [{'summary': 'This spot is popular', 'type': 'general', 'reasonName': 'globalInteractionReason'}]}, 'venue': {'id': '4b747291f964a52042dd2de3', 'name': 'Philip Williams Posters', 'location': {'address': '122 Chambers St', 'lat': 40.71528423132827, 'lng': -74.00878093952018, 'labeledLatLngs': [{'label': 'display', 'lat': 40.71528423132827, 'lng': -74.00878093952018}], 'distance': 195, 'postalCode': '10007', 'cc': 'US', 'city': 'New York', 'state': 'NY', 'country': 'United States', 'formattedAddress': ['122 Chambers St', 'New York, NY 10007', 'United States']}, 'categories': [{'id': '4bf58dd8d48988d116951735', 'name': 'Antique Shop', 'pluralName': 'Antique Shops', 'shortName': 'Antiques', 'icon': {'prefix': 'https://ss3.4sqi.net/img/categories_v2/shops/antique_', 'suffix': '.png'}, 'primary': True}], 'photos': {'count': 0, 'groups': []}}, 'referralId': 'e-0-4b747291f964a52042dd2de3-6'}, {'reasons': {'count': 0, 'items': [{'summary': 'This spot is popular', 'type': 'general', 'reasonName': 'globalInteractionReason'}]}, 'venue': {'id': '4a6e331af964a52031d41fe3', 'name': 'Equinox Tribeca', 'location': {'address': '54 Murray St', 'crossStreet': 'at W Broadway', 'lat': 40.71409860726041, 'lng': -74.0096857179283, 'labeledLatLngs': [{'label': 'display', 'lat': 40.71409860726041, 'lng': -74.0096857179283}], 'distance': 91, 'postalCode': '10007', 'cc': 'US', 'city': 'New York', 'state': 'NY', 'country': 'United States', 'formattedAddress': ['54 Murray St (at W Broadway)', 'New York, NY 10007', 'United States']}, 'categories': [{'id': '4bf58dd8d48988d176941735', 'name': 'Gym', 'pluralName': 'Gyms', 'shortName': 'Gym', 'icon': {'prefix': 'https://ss3.4sqi.net/img/categories_v2/building/gym_', 'suffix': '.png'}, 'primary': True}], 'photos': {'count': 0, 'groups': []}}, 'referralId': 'e-0-4a6e331af964a52031d41fe3-7'}, {'reasons': {'count': 0, 'items': [{'summary': 'This spot is popular', 'type': 'general', 'reasonName': 'globalInteractionReason'}]}, 'venue': {'id': '5171b5cc011cef9833bbb787', 'name': 'Mulberry & Vine', 'location': {'address': '73 Warren St', 'crossStreet': 'B/t West Broadway & Greenwich', 'lat': 40.71517693966315, 'lng': -74.01022747778285, 'labeledLatLngs': [{'label': 'display', 'lat': 40.71517693966315, 'lng': -74.01022747778285}], 'distance': 103, 'postalCode': '10007', 'cc': 'US', 'city': 'New York', 'state': 'NY', 'country': 'United States', 'formattedAddress': ['73 Warren St (B/t West Broadway & Greenwich)', 'New York, NY 10007', 'United States']}, 'categories': [{'id': '4bf58dd8d48988d16d941735', 'name': 'Café', 'pluralName': 'Cafés', 'shortName': 'Café', 'icon': {'prefix': 'https://ss3.4sqi.net/img/categories_v2/food/cafe_', 'suffix': '.png'}, 'primary': True}], 'delivery': {'id': '296363', 'url': 'https://www.seamless.com/menu/mulberry--vine-73-warren-st-new-york/296363?affiliate=1131&utm_source=foursquare-affiliate-network&utm_medium=affiliate&utm_campaign=1131&utm_content=296363', 'provider': {'name': 'seamless', 'icon': {'prefix': 'https://fastly.4sqi.net/img/general/cap/', 'sizes': [40, 50], 'name': '/delivery_provider_seamless_20180129.png'}}}, 'photos': {'count': 0, 'groups': []}}, 'referralId': 'e-0-5171b5cc011cef9833bbb787-8'}, {'reasons': {'count': 0, 'items': [{'summary': 'This spot is popular', 'type': 'general', 'reasonName': 'globalInteractionReason'}]}, 'venue': {'id': '57c640ad498e74977f98372f', 'name': 'Four Seasons Hotel New York Downtown', 'location': {'address': '27 Barclay St', 'crossStreet': 'Broadway', 'lat': 40.71261246501983, 'lng': -74.00938032087628, 'labeledLatLngs': [{'label': 'display', 'lat': 40.71261246501983, 'lng': -74.00938032087628}], 'distance': 222, 'postalCode': '10007', 'cc': 'US', 'city': 'New York', 'state': 'NY', 'country': 'United States', 'formattedAddress': ['27 Barclay St (Broadway)', 'New York, NY 10007', 'United States']}, 'categories': [{'id': '4bf58dd8d48988d1fa931735', 'name': 'Hotel', 'pluralName': 'Hotels', 'shortName': 'Hotel', 'icon': {'prefix': 'https://ss3.4sqi.net/img/categories_v2/travel/hotel_', 'suffix': '.png'}, 'primary': True}], 'photos': {'count': 0, 'groups': []}}, 'referralId': 'e-0-57c640ad498e74977f98372f-9'}, {'reasons': {'count': 0, 'items': [{'summary': 'This spot is popular', 'type': 'general', 'reasonName': 'globalInteractionReason'}]}, 'venue': {'id': '5dc6f6a5ea8dfb00080f6faa', 'name': 'Lekka Burger', 'location': {'address': '81 Warren St', 'crossStreet': 'btw Greenwich & West Broadway', 'lat': 40.715246, 'lng': -74.010559, 'labeledLatLngs': [{'label': 'display', 'lat': 40.715246, 'lng': -74.010559}], 'distance': 102, 'postalCode': '10007', 'cc': 'US', 'city': 'New York', 'state': 'NY', 'country': 'United States', 'formattedAddress': ['81 Warren St (btw Greenwich & West Broadway)', 'New York, NY 10007', 'United States']}, 'categories': [{'id': '4bf58dd8d48988d16c941735', 'name': 'Burger Joint', 'pluralName': 'Burger Joints', 'shortName': 'Burgers', 'icon': {'prefix': 'https://ss3.4sqi.net/img/categories_v2/food/burger_', 'suffix': '.png'}, 'primary': True}], 'photos': {'count': 0, 'groups': []}}, 'referralId': 'e-0-5dc6f6a5ea8dfb00080f6faa-10'}, {'reasons': {'count': 0, 'items': [{'summary': 'This spot is popular', 'type': 'general', 'reasonName': 'globalInteractionReason'}]}, 'venue': {'id': '4b6469d3f964a52037b12ae3', 'name': 'The Mysterious Bookshop', 'location': {'address': '58 Warren St', 'crossStreet': 'at W Broadway', 'lat': 40.71490950153982, 'lng': -74.00948027011903, 'labeledLatLngs': [{'label': 'display', 'lat': 40.71490950153982, 'lng': -74.00948027011903}], 'distance': 123, 'postalCode': '10007', 'cc': 'US', 'city': 'New York', 'state': 'NY', 'country': 'United States', 'formattedAddress': ['58 Warren St (at W Broadway)', 'New York, NY 10007', 'United States']}, 'categories': [{'id': '4bf58dd8d48988d114951735', 'name': 'Bookstore', 'pluralName': 'Bookstores', 'shortName': 'Bookstore', 'icon': {'prefix': 'https://ss3.4sqi.net/img/categories_v2/shops/bookstore_', 'suffix': '.png'}, 'primary': True}], 'photos': {'count': 0, 'groups': []}}, 'referralId': 'e-0-4b6469d3f964a52037b12ae3-11'}, {'reasons': {'count': 0, 'items': [{'summary': 'This spot is popular', 'type': 'general', 'reasonName': 'globalInteractionReason'}]}, 'venue': {'id': '545c0436498e798e22ce4b2a', 'name': 'Little Park', 'location': {'address': '85 W Broadway', 'crossStreet': 'at Chambers St', 'lat': 40.715486585249735, 'lng': -74.00913313510836, 'labeledLatLngs': [{'label': 'display', 'lat': 40.715486585249735, 'lng': -74.00913313510836}], 'distance': 186, 'postalCode': '10007', 'cc': 'US', 'city': 'New York', 'state': 'NY', 'country': 'United States', 'formattedAddress': ['85 W Broadway (at Chambers St)', 'New York, NY 10007', 'United States']}, 'categories': [{'id': '4bf58dd8d48988d14e941735', 'name': 'American Restaurant', 'pluralName': 'American Restaurants', 'shortName': 'American', 'icon': {'prefix': 'https://ss3.4sqi.net/img/categories_v2/food/default_', 'suffix': '.png'}, 'primary': True}], 'photos': {'count': 0, 'groups': []}, 'venuePage': {'id': '102902274'}}, 'referralId': 'e-0-545c0436498e798e22ce4b2a-12'}, {'reasons': {'count': 0, 'items': [{'summary': 'This spot is popular', 'type': 'general', 'reasonName': 'globalInteractionReason'}]}, 'venue': {'id': '49ccd495f964a52091591fe3', 'name': 'Kaffe 1668', 'location': {'address': '275 Greenwich St', 'crossStreet': 'at Murray St', 'lat': 40.71504512558996, 'lng': -74.0115087102821, 'labeledLatLngs': [{'label': 'display', 'lat': 40.71504512558996, 'lng': -74.0115087102821}], 'distance': 103, 'postalCode': '10007', 'cc': 'US', 'city': 'New York', 'state': 'NY', 'country': 'United States', 'formattedAddress': ['275 Greenwich St (at Murray St)', 'New York, NY 10007', 'United States']}, 'categories': [{'id': '4bf58dd8d48988d1e0931735', 'name': 'Coffee Shop', 'pluralName': 'Coffee Shops', 'shortName': 'Coffee Shop', 'icon': {'prefix': 'https://ss3.4sqi.net/img/categories_v2/food/coffeeshop_', 'suffix': '.png'}, 'primary': True}], 'photos': {'count': 0, 'groups': []}, 'venuePage': {'id': '43231093'}}, 'referralId': 'e-0-49ccd495f964a52091591fe3-13'}, {'reasons': {'count': 0, 'items': [{'summary': 'This spot is popular', 'type': 'general', 'reasonName': 'globalInteractionReason'}]}, 'venue': {'id': '5ae28a7b15173e002cef3271', 'name': 'Primo’s', 'location': {'address': '129 Chambers St.', 'crossStreet': 'West Broadway', 'lat': 40.71550092965859, 'lng': -74.00897677392395, 'labeledLatLngs': [{'label': 'display', 'lat': 40.71550092965859, 'lng': -74.00897677392395}], 'distance': 197, 'postalCode': '10007', 'cc': 'US', 'neighborhood': 'Tribeca', 'city': 'New York', 'state': 'NY', 'country': 'United States', 'formattedAddress': ['129 Chambers St. (West Broadway)', 'New York, NY 10007', 'United States']}, 'categories': [{'id': '4bf58dd8d48988d11e941735', 'name': 'Cocktail Bar', 'pluralName': 'Cocktail Bars', 'shortName': 'Cocktail', 'icon': {'prefix': 'https://ss3.4sqi.net/img/categories_v2/nightlife/cocktails_', 'suffix': '.png'}, 'primary': True}], 'photos': {'count': 0, 'groups': []}}, 'referralId': 'e-0-5ae28a7b15173e002cef3271-14'}, {'reasons': {'count': 0, 'items': [{'summary': 'This spot is popular', 'type': 'general', 'reasonName': 'globalInteractionReason'}]}, 'venue': {'id': '4abe7f9ef964a520068e20e3', 'name': 'One World Trade Center', 'location': {'address': '1 World Trade Ctr', 'crossStreet': 'btwn Fulton & West St', 'lat': 40.71306941116871, 'lng': -74.01313304901123, 'labeledLatLngs': [{'label': 'display', 'lat': 40.71306941116871, 'lng': -74.01313304901123}], 'distance': 246, 'postalCode': '10007', 'cc': 'US', 'city': 'New York', 'state': 'NY', 'country': 'United States', 'formattedAddress': ['1 World Trade Ctr (btwn Fulton & West St)', 'New York, NY 10007', 'United States']}, 'categories': [{'id': '4bf58dd8d48988d130941735', 'name': 'Building', 'pluralName': 'Buildings', 'shortName': 'Building', 'icon': {'prefix': 'https://ss3.4sqi.net/img/categories_v2/building/default_', 'suffix': '.png'}, 'primary': True}], 'photos': {'count': 0, 'groups': []}, 'venuePage': {'id': '141512462'}}, 'referralId': 'e-0-4abe7f9ef964a520068e20e3-15'}, {'reasons': {'count': 0, 'items': [{'summary': 'This spot is popular', 'type': 'general', 'reasonName': 'globalInteractionReason'}]}, 'venue': {'id': '4b8dbba4f964a5201e0b33e3', 'name': 'Church Street Boxing Gym', 'location': {'address': '25 Park Pl', 'crossStreet': 'btwn Church St. & Broadway', 'lat': 40.713353574017404, 'lng': -74.00906676030888, 'labeledLatLngs': [{'label': 'display', 'lat': 40.713353574017404, 'lng': -74.00906676030888}], 'distance': 177, 'postalCode': '10007', 'cc': 'US', 'city': 'New York', 'state': 'NY', 'country': 'United States', 'formattedAddress': ['25 Park Pl (btwn Church St. & Broadway)', 'New York, NY 10007', 'United States']}, 'categories': [{'id': '52f2ab2ebcbc57f1066b8b47', 'name': 'Boxing Gym', 'pluralName': 'Boxing Gyms', 'shortName': 'Boxing Gym', 'icon': {'prefix': 'https://ss3.4sqi.net/img/categories_v2/building/gym_', 'suffix': '.png'}, 'primary': True}], 'photos': {'count': 0, 'groups': []}}, 'referralId': 'e-0-4b8dbba4f964a5201e0b33e3-16'}, {'reasons': {'count': 0, 'items': [{'summary': 'This spot is popular', 'type': 'general', 'reasonName': 'globalInteractionReason'}]}, 'venue': {'id': '58a253c830ecc66c9e5b40a0', 'name': 'The Class by Taryn Toomey', 'location': {'address': '22 Park Pl', 'lat': 40.71275251771485, 'lng': -74.00873355601571, 'labeledLatLngs': [{'label': 'display', 'lat': 40.71275251771485, 'lng': -74.00873355601571}], 'distance': 243, 'postalCode': '10007', 'cc': 'US', 'city': 'New York', 'state': 'NY', 'country': 'United States', 'formattedAddress': ['22 Park Pl', 'New York, NY 10007', 'United States']}, 'categories': [{'id': '4bf58dd8d48988d175941735', 'name': 'Gym / Fitness Center', 'pluralName': 'Gyms or Fitness Centers', 'shortName': 'Gym / Fitness', 'icon': {'prefix': 'https://ss3.4sqi.net/img/categories_v2/building/gym_', 'suffix': '.png'}, 'primary': True}], 'photos': {'count': 0, 'groups': []}}, 'referralId': 'e-0-58a253c830ecc66c9e5b40a0-17'}, {'reasons': {'count': 0, 'items': [{'summary': 'This spot is popular', 'type': 'general', 'reasonName': 'globalInteractionReason'}]}, 'venue': {'id': '4a4baaf8f964a52091ac1fe3', 'name': \"Zucker's Bagels & Smoked Fish\", 'location': {'address': '146 Chambers St', 'crossStreet': 'btwn W. Broadway & Greenwich St', 'lat': 40.71558, 'lng': -74.00985, 'labeledLatLngs': [{'label': 'display', 'lat': 40.71558, 'lng': -74.00985}], 'distance': 157, 'postalCode': '10007', 'cc': 'US', 'city': 'New York', 'state': 'NY', 'country': 'United States', 'formattedAddress': ['146 Chambers St (btwn W. Broadway & Greenwich St)', 'New York, NY 10007', 'United States']}, 'categories': [{'id': '4bf58dd8d48988d179941735', 'name': 'Bagel Shop', 'pluralName': 'Bagel Shops', 'shortName': 'Bagels', 'icon': {'prefix': 'https://ss3.4sqi.net/img/categories_v2/food/bagels_', 'suffix': '.png'}, 'primary': True}], 'delivery': {'id': '277435', 'url': 'https://www.seamless.com/menu/zuckers-bagels--smoked-fish-146-chambers-st-new-york/277435?affiliate=1131&utm_source=foursquare-affiliate-network&utm_medium=affiliate&utm_campaign=1131&utm_content=277435', 'provider': {'name': 'seamless', 'icon': {'prefix': 'https://fastly.4sqi.net/img/general/cap/', 'sizes': [40, 50], 'name': '/delivery_provider_seamless_20180129.png'}}}, 'photos': {'count': 0, 'groups': []}}, 'referralId': 'e-0-4a4baaf8f964a52091ac1fe3-18'}, {'reasons': {'count': 0, 'items': [{'summary': 'This spot is popular', 'type': 'general', 'reasonName': 'globalInteractionReason'}]}, 'venue': {'id': '4a7f140cf964a520b4f21fe3', 'name': 'Frankly Wines', 'location': {'address': '66 W Broadway', 'crossStreet': 'Murray & Warren', 'lat': 40.71447694276293, 'lng': -74.0100388662148, 'labeledLatLngs': [{'label': 'display', 'lat': 40.71447694276293, 'lng': -74.0100388662148}], 'distance': 60, 'postalCode': '10007', 'cc': 'US', 'city': 'New York', 'state': 'NY', 'country': 'United States', 'formattedAddress': ['66 W Broadway (Murray & Warren)', 'New York, NY 10007', 'United States']}, 'categories': [{'id': '4bf58dd8d48988d119951735', 'name': 'Wine Shop', 'pluralName': 'Wine Shops', 'shortName': 'Wine Shop', 'icon': {'prefix': 'https://ss3.4sqi.net/img/categories_v2/shops/food_wineshop_', 'suffix': '.png'}, 'primary': True}], 'photos': {'count': 0, 'groups': []}, 'venuePage': {'id': '32884193'}}, 'referralId': 'e-0-4a7f140cf964a520b4f21fe3-19'}]}]}}\n"
     ]
    },
    {
     "ename": "KeyError",
     "evalue": "'groups'",
     "output_type": "error",
     "traceback": [
      "\u001b[1;31m---------------------------------------------------------------------------\u001b[0m",
      "\u001b[1;31mKeyError\u001b[0m                                  Traceback (most recent call last)",
      "\u001b[1;32m<ipython-input-19-652997aeeda3>\u001b[0m in \u001b[0;36m<module>\u001b[1;34m\u001b[0m\n\u001b[0;32m      3\u001b[0m                             \u001b[0mlongitudes\u001b[0m\u001b[1;33m=\u001b[0m\u001b[0mny_data\u001b[0m\u001b[1;33m[\u001b[0m\u001b[1;34m'longitude'\u001b[0m\u001b[1;33m]\u001b[0m\u001b[1;33m,\u001b[0m\u001b[1;33m\u001b[0m\u001b[1;33m\u001b[0m\u001b[0m\n\u001b[0;32m      4\u001b[0m                             \u001b[0mradius\u001b[0m\u001b[1;33m=\u001b[0m\u001b[1;36m500\u001b[0m\u001b[1;33m,\u001b[0m\u001b[1;33m\u001b[0m\u001b[1;33m\u001b[0m\u001b[0m\n\u001b[1;32m----> 5\u001b[1;33m                             \u001b[0mlimit\u001b[0m\u001b[1;33m=\u001b[0m\u001b[1;36m20\u001b[0m\u001b[1;33m\u001b[0m\u001b[1;33m\u001b[0m\u001b[0m\n\u001b[0m\u001b[0;32m      6\u001b[0m                                   )\n",
      "\u001b[1;32m<ipython-input-18-cfa33c74762f>\u001b[0m in \u001b[0;36mgetNearbyVenues\u001b[1;34m(names, latitudes, longitudes, radius, limit)\u001b[0m\n\u001b[0;32m     17\u001b[0m         \u001b[1;31m# make the GET request\u001b[0m\u001b[1;33m\u001b[0m\u001b[1;33m\u001b[0m\u001b[1;33m\u001b[0m\u001b[0m\n\u001b[0;32m     18\u001b[0m         \u001b[0mprint\u001b[0m\u001b[1;33m(\u001b[0m\u001b[0mrequests\u001b[0m\u001b[1;33m.\u001b[0m\u001b[0mget\u001b[0m\u001b[1;33m(\u001b[0m\u001b[0murl\u001b[0m\u001b[1;33m)\u001b[0m\u001b[1;33m.\u001b[0m\u001b[0mjson\u001b[0m\u001b[1;33m(\u001b[0m\u001b[1;33m)\u001b[0m\u001b[1;33m)\u001b[0m\u001b[1;33m\u001b[0m\u001b[1;33m\u001b[0m\u001b[0m\n\u001b[1;32m---> 19\u001b[1;33m         \u001b[0mresults\u001b[0m \u001b[1;33m=\u001b[0m \u001b[0mrequests\u001b[0m\u001b[1;33m.\u001b[0m\u001b[0mget\u001b[0m\u001b[1;33m(\u001b[0m\u001b[0murl\u001b[0m\u001b[1;33m)\u001b[0m\u001b[1;33m.\u001b[0m\u001b[0mjson\u001b[0m\u001b[1;33m(\u001b[0m\u001b[1;33m)\u001b[0m\u001b[1;33m[\u001b[0m\u001b[1;34m\"response\"\u001b[0m\u001b[1;33m]\u001b[0m\u001b[1;33m[\u001b[0m\u001b[1;34m'groups'\u001b[0m\u001b[1;33m]\u001b[0m\u001b[1;33m[\u001b[0m\u001b[1;36m0\u001b[0m\u001b[1;33m]\u001b[0m\u001b[1;33m[\u001b[0m\u001b[1;34m'items'\u001b[0m\u001b[1;33m]\u001b[0m\u001b[1;33m\u001b[0m\u001b[1;33m\u001b[0m\u001b[0m\n\u001b[0m\u001b[0;32m     20\u001b[0m \u001b[1;33m\u001b[0m\u001b[0m\n\u001b[0;32m     21\u001b[0m         \u001b[1;31m# return only relevant information for each nearby venue\u001b[0m\u001b[1;33m\u001b[0m\u001b[1;33m\u001b[0m\u001b[1;33m\u001b[0m\u001b[0m\n",
      "\u001b[1;31mKeyError\u001b[0m: 'groups'"
     ]
    }
   ],
   "source": [
    "ny_venues = getNearbyVenues(names=ny_data['name'],\n",
    "                            latitudes=ny_data['latitude'],\n",
    "                            longitudes=ny_data['longitude'],\n",
    "                            radius=500,\n",
    "                            limit=20\n",
    "                                  )"
   ]
  },
  {
   "cell_type": "markdown",
   "metadata": {},
   "source": [
    "## 3.4 Clustering"
   ]
  },
  {
   "cell_type": "code",
   "execution_count": null,
   "metadata": {},
   "outputs": [],
   "source": []
  }
 ],
 "metadata": {
  "kernelspec": {
   "display_name": "Python 3",
   "language": "python",
   "name": "python3"
  },
  "language_info": {
   "codemirror_mode": {
    "name": "ipython",
    "version": 3
   },
   "file_extension": ".py",
   "mimetype": "text/x-python",
   "name": "python",
   "nbconvert_exporter": "python",
   "pygments_lexer": "ipython3",
   "version": "3.7.4"
  }
 },
 "nbformat": 4,
 "nbformat_minor": 2
}
